{
 "cells": [
  {
   "cell_type": "markdown",
   "id": "1b46fe41",
   "metadata": {
    "pycharm": {
     "name": "#%% md\n"
    }
   },
   "source": [
    "<div align=center>\n",
    "\n",
    "<font size=5>\n",
    "    In the Name of God\n",
    "<font/>\n",
    "<br/>\n",
    "<br/>\n",
    "<font>\n",
    "    Sharif University of Technology - Departmenet of Electrical Engineering\n",
    "</font>\n",
    "<br/>\n",
    "<font>\n",
    "    Introducing with Machine Learing - Dr. S. Amini\n",
    "</font>\n",
    "<br/>\n",
    "<br/>\n",
    "Spring 2023\n",
    "\n",
    "</div>\n",
    "\n",
    "<hr/>\n",
    "<div align=center>\n",
    "<font size=6>\n",
    "    Neural Networks Practical Assignment\n",
    "    \n",
    "    Question 1\n",
    "</font>\n",
    "<br/>\t\t\n",
    "<font size=4>\n",
    "<br/>\n",
    "</div>"
   ]
  },
  {
   "cell_type": "markdown",
   "id": "24a0fc13",
   "metadata": {
    "id": "a6c2fd6d",
    "pycharm": {
     "name": "#%% md\n"
    }
   },
   "source": [
    "# Personal Data"
   ]
  },
  {
   "cell_type": "code",
   "execution_count": 1,
   "id": "44babb65",
   "metadata": {
    "id": "4e90a030",
    "pycharm": {
     "name": "#%%\n"
    }
   },
   "outputs": [],
   "source": [
    "# Set your student number\n",
    "student_number = 9910693\n",
    "Name = 'Mohammad'\n",
    "Last_Name = 'Ghafourian AghaHasanPour'"
   ]
  },
  {
   "cell_type": "markdown",
   "id": "ca4a337a",
   "metadata": {
    "id": "339da203",
    "pycharm": {
     "name": "#%% md\n"
    }
   },
   "source": [
    "# Rules\n",
    "- You are not allowed to add or remove cells. You **must use the provided space to write your code**. If you don't follow this rule, **your Practical Assignment won't be graded**.  \n",
    "\n",
    "- Collaboration and using the internet is allowed, but your code **must be written by yourself**. **Copying code** from each other or from available resources will result in a **zero score for the assignment**.\n",
    "\n",
    "- You are not allowed to use `torch.nn`, `torch.optim` and any activation function and loss function implemented in torch. "
   ]
  },
  {
   "cell_type": "code",
   "execution_count": 3,
   "id": "12b76789",
   "metadata": {
    "id": "881f2e4c",
    "pycharm": {
     "name": "#%%\n"
    }
   },
   "outputs": [
    {
     "name": "stdout",
     "output_type": "stream",
     "text": [
      "Requirement already satisfied: numpy in c:\\users\\admin\\appdata\\local\\programs\\python\\python39\\lib\\site-packages (1.22.4)\n"
     ]
    },
    {
     "name": "stderr",
     "output_type": "stream",
     "text": [
      "\n",
      "[notice] A new release of pip is available: 23.0 -> 23.1.2\n",
      "[notice] To update, run: python.exe -m pip install --upgrade pip\n"
     ]
    },
    {
     "name": "stdout",
     "output_type": "stream",
     "text": [
      "Requirement already satisfied: matplotlib in c:\\users\\admin\\appdata\\local\\programs\\python\\python39\\lib\\site-packages (3.5.2)\n",
      "Requirement already satisfied: python-dateutil>=2.7 in c:\\users\\admin\\appdata\\local\\programs\\python\\python39\\lib\\site-packages (from matplotlib) (2.8.2)\n",
      "Requirement already satisfied: numpy>=1.17 in c:\\users\\admin\\appdata\\local\\programs\\python\\python39\\lib\\site-packages (from matplotlib) (1.22.4)\n",
      "Requirement already satisfied: pyparsing>=2.2.1 in c:\\users\\admin\\appdata\\local\\programs\\python\\python39\\lib\\site-packages (from matplotlib) (3.0.9)\n",
      "Requirement already satisfied: pillow>=6.2.0 in c:\\users\\admin\\appdata\\local\\programs\\python\\python39\\lib\\site-packages (from matplotlib) (9.5.0)\n",
      "Requirement already satisfied: packaging>=20.0 in c:\\users\\admin\\appdata\\local\\programs\\python\\python39\\lib\\site-packages (from matplotlib) (21.3)\n",
      "Requirement already satisfied: fonttools>=4.22.0 in c:\\users\\admin\\appdata\\local\\programs\\python\\python39\\lib\\site-packages (from matplotlib) (4.33.3)\n",
      "Requirement already satisfied: kiwisolver>=1.0.1 in c:\\users\\admin\\appdata\\local\\programs\\python\\python39\\lib\\site-packages (from matplotlib) (1.4.2)\n",
      "Requirement already satisfied: cycler>=0.10 in c:\\users\\admin\\appdata\\local\\programs\\python\\python39\\lib\\site-packages (from matplotlib) (0.11.0)\n",
      "Requirement already satisfied: six>=1.5 in c:\\users\\admin\\appdata\\local\\programs\\python\\python39\\lib\\site-packages (from python-dateutil>=2.7->matplotlib) (1.16.0)\n"
     ]
    },
    {
     "name": "stderr",
     "output_type": "stream",
     "text": [
      "\n",
      "[notice] A new release of pip is available: 23.0 -> 23.1.2\n",
      "[notice] To update, run: python.exe -m pip install --upgrade pip\n"
     ]
    },
    {
     "name": "stdout",
     "output_type": "stream",
     "text": [
      "Requirement already satisfied: torchvision in c:\\users\\admin\\appdata\\local\\programs\\python\\python39\\lib\\site-packages (0.15.2)\n",
      "Requirement already satisfied: requests in c:\\users\\admin\\appdata\\local\\programs\\python\\python39\\lib\\site-packages (from torchvision) (2.28.2)\n",
      "Requirement already satisfied: torch==2.0.1 in c:\\users\\admin\\appdata\\local\\programs\\python\\python39\\lib\\site-packages (from torchvision) (2.0.1)\n",
      "Requirement already satisfied: numpy in c:\\users\\admin\\appdata\\local\\programs\\python\\python39\\lib\\site-packages (from torchvision) (1.22.4)\n",
      "Requirement already satisfied: pillow!=8.3.*,>=5.3.0 in c:\\users\\admin\\appdata\\local\\programs\\python\\python39\\lib\\site-packages (from torchvision) (9.5.0)\n",
      "Requirement already satisfied: jinja2 in c:\\users\\admin\\appdata\\local\\programs\\python\\python39\\lib\\site-packages (from torch==2.0.1->torchvision) (3.1.2)\n",
      "Requirement already satisfied: networkx in c:\\users\\admin\\appdata\\local\\programs\\python\\python39\\lib\\site-packages (from torch==2.0.1->torchvision) (3.1)\n",
      "Requirement already satisfied: sympy in c:\\users\\admin\\appdata\\local\\programs\\python\\python39\\lib\\site-packages (from torch==2.0.1->torchvision) (1.12)\n",
      "Requirement already satisfied: typing-extensions in c:\\users\\admin\\appdata\\local\\programs\\python\\python39\\lib\\site-packages (from torch==2.0.1->torchvision) (4.5.0)\n",
      "Requirement already satisfied: filelock in c:\\users\\admin\\appdata\\local\\programs\\python\\python39\\lib\\site-packages (from torch==2.0.1->torchvision) (3.12.0)\n",
      "Requirement already satisfied: idna<4,>=2.5 in c:\\users\\admin\\appdata\\local\\programs\\python\\python39\\lib\\site-packages (from requests->torchvision) (3.2)\n",
      "Requirement already satisfied: urllib3<1.27,>=1.21.1 in c:\\users\\admin\\appdata\\local\\programs\\python\\python39\\lib\\site-packages (from requests->torchvision) (1.26.6)\n",
      "Requirement already satisfied: charset-normalizer<4,>=2 in c:\\users\\admin\\appdata\\local\\programs\\python\\python39\\lib\\site-packages (from requests->torchvision) (2.0.4)\n",
      "Requirement already satisfied: certifi>=2017.4.17 in c:\\users\\admin\\appdata\\local\\programs\\python\\python39\\lib\\site-packages (from requests->torchvision) (2021.5.30)\n",
      "Requirement already satisfied: MarkupSafe>=2.0 in c:\\users\\admin\\appdata\\local\\programs\\python\\python39\\lib\\site-packages (from jinja2->torch==2.0.1->torchvision) (2.1.1)\n",
      "Requirement already satisfied: mpmath>=0.19 in c:\\users\\admin\\appdata\\local\\programs\\python\\python39\\lib\\site-packages (from sympy->torch==2.0.1->torchvision) (1.3.0)\n"
     ]
    },
    {
     "name": "stderr",
     "output_type": "stream",
     "text": [
      "\n",
      "[notice] A new release of pip is available: 23.0 -> 23.1.2\n",
      "[notice] To update, run: python.exe -m pip install --upgrade pip\n"
     ]
    },
    {
     "name": "stdout",
     "output_type": "stream",
     "text": [
      "Requirement already satisfied: torch in c:\\users\\admin\\appdata\\local\\programs\\python\\python39\\lib\\site-packages (2.0.1)\n",
      "Requirement already satisfied: typing-extensions in c:\\users\\admin\\appdata\\local\\programs\\python\\python39\\lib\\site-packages (from torch) (4.5.0)\n",
      "Requirement already satisfied: filelock in c:\\users\\admin\\appdata\\local\\programs\\python\\python39\\lib\\site-packages (from torch) (3.12.0)\n",
      "Requirement already satisfied: sympy in c:\\users\\admin\\appdata\\local\\programs\\python\\python39\\lib\\site-packages (from torch) (1.12)\n",
      "Requirement already satisfied: jinja2 in c:\\users\\admin\\appdata\\local\\programs\\python\\python39\\lib\\site-packages (from torch) (3.1.2)\n",
      "Requirement already satisfied: networkx in c:\\users\\admin\\appdata\\local\\programs\\python\\python39\\lib\\site-packages (from torch) (3.1)\n",
      "Requirement already satisfied: MarkupSafe>=2.0 in c:\\users\\admin\\appdata\\local\\programs\\python\\python39\\lib\\site-packages (from jinja2->torch) (2.1.1)\n",
      "Requirement already satisfied: mpmath>=0.19 in c:\\users\\admin\\appdata\\local\\programs\\python\\python39\\lib\\site-packages (from sympy->torch) (1.3.0)\n"
     ]
    },
    {
     "name": "stderr",
     "output_type": "stream",
     "text": [
      "\n",
      "[notice] A new release of pip is available: 23.0 -> 23.1.2\n",
      "[notice] To update, run: python.exe -m pip install --upgrade pip\n"
     ]
    }
   ],
   "source": [
    "!pip install numpy\n",
    "!pip install matplotlib\n",
    "!pip install torchvision\n",
    "!pip install torch"
   ]
  },
  {
   "cell_type": "markdown",
   "id": "886188c7",
   "metadata": {
    "pycharm": {
     "name": "#%% md\n"
    }
   },
   "source": [
    "## Importing Libraries"
   ]
  },
  {
   "cell_type": "code",
   "execution_count": 2,
   "id": "55a0adcc",
   "metadata": {
    "pycharm": {
     "name": "#%%\n"
    }
   },
   "outputs": [],
   "source": [
    "import torch\n",
    "from torchvision.datasets import FashionMNIST\n",
    "from torchvision import transforms\n",
    "from torch.utils.data import DataLoader\n",
    "\n",
    "import numpy as np\n",
    "from matplotlib import pyplot as plt\n",
    "from typing import Dict"
   ]
  },
  {
   "cell_type": "markdown",
   "id": "18510868",
   "metadata": {
    "pycharm": {
     "name": "#%% md\n"
    }
   },
   "source": [
    "## Datasets and Dataloaders\n",
    "\n",
    "Here, we download and load the train and test `FashionMNIST` dataset with the desired transforms. Then, we define the dataloaders for `train` and `test`."
   ]
  },
  {
   "cell_type": "code",
   "execution_count": 3,
   "id": "dc8759e2",
   "metadata": {
    "pycharm": {
     "name": "#%%\n"
    }
   },
   "outputs": [],
   "source": [
    "train_set = FashionMNIST(root='.', train=True, download=True, transform=transforms.ToTensor())\n",
    "test_set = FashionMNIST(root='.', train=False, download=True, transform=transforms.ToTensor())"
   ]
  },
  {
   "cell_type": "code",
   "execution_count": 4,
   "id": "8f6763e6",
   "metadata": {
    "pycharm": {
     "name": "#%%\n"
    }
   },
   "outputs": [],
   "source": [
    "image_shape = train_set[0][0].shape\n",
    "input_dim = np.prod(image_shape).item()\n",
    "num_classes = len(FashionMNIST.classes)"
   ]
  },
  {
   "cell_type": "code",
   "execution_count": 5,
   "id": "c695ff60",
   "metadata": {
    "pycharm": {
     "name": "#%%\n"
    }
   },
   "outputs": [],
   "source": [
    "train_loader = DataLoader(train_set, 64, shuffle=True)\n",
    "test_loader = DataLoader(test_set, 64, shuffle=True)"
   ]
  },
  {
   "cell_type": "markdown",
   "id": "f9dac6c2",
   "metadata": {
    "pycharm": {
     "name": "#%% md\n"
    }
   },
   "source": [
    "## Visualization\n",
    "\n",
    "Visualize 1 random image from each class\n",
    "\n",
    "- **Hint**:  You can use `plt.subplots` for visualization"
   ]
  },
  {
   "cell_type": "code",
   "execution_count": 6,
   "id": "e3d6b0c1",
   "metadata": {
    "pycharm": {
     "name": "#%%\n"
    }
   },
   "outputs": [
    {
     "data": {
      "text/plain": "<Figure size 2000x500 with 10 Axes>",
      "image/png": "[encoded data removed]"
     },
     "metadata": {},
     "output_type": "display_data"
    }
   ],
   "source": [
    "## FILL HERE\n",
    "fig, axs = plt.subplots(1, num_classes, figsize=(20, 5))\n",
    "\n",
    "for i, ax in enumerate(axs):\n",
    "    # Get a random image from the i-th class\n",
    "    idx = (train_set.targets == i).nonzero(as_tuple=True)[0][0]\n",
    "    image, label = train_set[idx]\n",
    "\n",
    "    # Plot the image and label as the title\n",
    "    ax.imshow(image.squeeze(), cmap='gray')\n",
    "    ax.set_title(train_set.classes[label])\n",
    "\n",
    "plt.show()"
   ]
  },
  {
   "cell_type": "markdown",
   "id": "a94c5aba",
   "metadata": {
    "pycharm": {
     "name": "#%% md\n"
    }
   },
   "source": [
    "## Initializing model's parameters\n",
    "\n",
    "In this part, we create the model and initialize its parameters and store the values of these parameters in the variable `parameters` which is a dictionary including the weigths and biases of each layer."
   ]
  },
  {
   "cell_type": "code",
   "execution_count": 7,
   "id": "e6d40952",
   "metadata": {
    "pycharm": {
     "name": "#%%\n"
    }
   },
   "outputs": [],
   "source": [
    "def add_linear_layer(parameters: dict, shape, device, i=None):\n",
    "    \"\"\"\n",
    "    This function adds parameters of a linear unit of shape `shape` to the `parameters` dictionary.\n",
    "    \"\"\"\n",
    "    n_in, n_out = shape\n",
    "    with torch.no_grad():\n",
    "        w = torch.zeros(*shape, device=device)\n",
    "        # aiming initialization for ReLU activations:\n",
    "        bound = 1 / np.sqrt(n_in).item()\n",
    "        w.uniform_(-bound, bound)\n",
    "        b = torch.zeros(n_out, device=device)  # no need to (1, n_out). it will broadcast itself.\n",
    "    w.requires_grad = True\n",
    "    b.requires_grad = True\n",
    "    # `i` is used to give numbers to parameter names\n",
    "    parameters.update({f'w{i}': w, f'b{i}': b})"
   ]
  },
  {
   "cell_type": "markdown",
   "id": "ce914706",
   "metadata": {
    "pycharm": {
     "name": "#%% md\n"
    }
   },
   "source": [
    "Now we define our neural network with the given layers and add the weights and biases to the dictionary `parameters`. **You are allowed to modify the values of the layers**."
   ]
  },
  {
   "cell_type": "code",
   "execution_count": 8,
   "id": "8f3867d7",
   "metadata": {
    "pycharm": {
     "name": "#%%\n"
    }
   },
   "outputs": [
    {
     "name": "stdout",
     "output_type": "stream",
     "text": [
      "device is cpu\n"
     ]
    },
    {
     "data": {
      "text/plain": "dict_keys(['w0', 'b0', 'w1', 'b1', 'w2', 'b2', 'w3', 'b3', 'w4', 'b4'])"
     },
     "execution_count": 8,
     "metadata": {},
     "output_type": "execute_result"
    }
   ],
   "source": [
    "layers = [\n",
    "    (input_dim, 512),\n",
    "    (512, 256),\n",
    "    (256, 128),\n",
    "    (128, 64),\n",
    "    (64, num_classes)\n",
    "]\n",
    "num_layers = len(layers)\n",
    "parameters = {}\n",
    "\n",
    "# setting the device\n",
    "device = torch.device(\"cuda\" if torch.cuda.is_available() else \"cpu\")\n",
    "print(\"device is\" , device)\n",
    "# adding the parameters to the dictionary\n",
    "for i, shape in enumerate(layers):\n",
    "    add_linear_layer(parameters, shape, device, i)\n",
    "\n",
    "parameters.keys()"
   ]
  },
  {
   "cell_type": "markdown",
   "id": "8bfd2c8e",
   "metadata": {
    "pycharm": {
     "name": "#%% md\n"
    }
   },
   "source": [
    "## Defining the required functions\n",
    "\n",
    "In this section, we should define the required functions. For each of these functions, the inputs and the desired outputs are given and you should write all or part of the function. **You are not allowed to use the activation functions and the loss functions implemented in torch**."
   ]
  },
  {
   "cell_type": "markdown",
   "id": "f3b413d8",
   "metadata": {
    "pycharm": {
     "name": "#%% md\n"
    }
   },
   "source": [
    "Computing affine and relu outputs:"
   ]
  },
  {
   "cell_type": "code",
   "execution_count": 9,
   "id": "bebeeb0e",
   "metadata": {
    "pycharm": {
     "name": "#%%\n"
    }
   },
   "outputs": [],
   "source": [
    "def affine_forward(x, w, b):\n",
    "    ## FILL HERE\n",
    "    out = torch.mm(x, w) + b\n",
    "    return out\n",
    "\n",
    "def relu(x):\n",
    "    ## FILL HERE\n",
    "    out = torch.maximum(x, torch.zeros_like(x))\n",
    "    return out"
   ]
  },
  {
   "cell_type": "markdown",
   "id": "5d9baa5e",
   "metadata": {
    "pycharm": {
     "name": "#%% md\n"
    }
   },
   "source": [
    "Function `model` returns output of the whole model for the input `x` using the parameters:"
   ]
  },
  {
   "cell_type": "code",
   "execution_count": 10,
   "id": "d2562962",
   "metadata": {
    "pycharm": {
     "name": "#%%\n"
    }
   },
   "outputs": [],
   "source": [
    "def model(x: torch.Tensor, parameters, num_layers=num_layers):\n",
    "    # number of batches\n",
    "    B = x.shape[0]\n",
    "    x = x.view(B, -1)\n",
    "\n",
    "    ## FILL HERE\n",
    "    # Perform forward propagation through the layers\n",
    "    for i in range(num_layers):\n",
    "        # Get the weight and bias tensors for the i-th layer\n",
    "        w = parameters[f'w{i}']\n",
    "        b = parameters[f'b{i}']\n",
    "\n",
    "        # Compute the output of the i-th layer using affine and ReLU operations\n",
    "        out = affine_forward(x, w, b)\n",
    "        out = relu(out)\n",
    "        x = out\n",
    "\n",
    "    output = out\n",
    "    return output"
   ]
  },
  {
   "cell_type": "markdown",
   "id": "d17a9b4c",
   "metadata": {
    "pycharm": {
     "name": "#%% md\n"
    }
   },
   "source": [
    "Implementing cross entropy loss:"
   ]
  },
  {
   "cell_type": "code",
   "execution_count": 11,
   "id": "6959621c",
   "metadata": {
    "pycharm": {
     "name": "#%%\n"
    }
   },
   "outputs": [],
   "source": [
    "def cross_entropy_loss(scores, y):\n",
    "    n = len(y)\n",
    "    ## FILL HERE\n",
    "    exp_scores = torch.exp(scores)\n",
    "    probs = exp_scores / torch.sum(exp_scores, axis=1, keepdims=True)# Softmax\n",
    "    log_probs = -torch.log(probs[range(n), y])\n",
    "    loss = torch.sum(log_probs) / n # Mean of losses\n",
    "    return loss"
   ]
  },
  {
   "cell_type": "markdown",
   "id": "15a589af",
   "metadata": {
    "pycharm": {
     "name": "#%% md\n"
    }
   },
   "source": [
    "Implementing a function for optimizing parameters and a function to zeroing out their gradients:"
   ]
  },
  {
   "cell_type": "code",
   "execution_count": 12,
   "id": "3121c147",
   "metadata": {
    "pycharm": {
     "name": "#%%\n"
    }
   },
   "outputs": [],
   "source": [
    "def sgd_optimizer(parameters: Dict[str, torch.Tensor], learning_rate=0.001):\n",
    "    '''This function gets the parameters and a learning rate. Then updates the parameters using their\n",
    "    gradient (parameter.grad). Finally, you should zero the gradients of the parameters after updating\n",
    "    the parameter value.'''\n",
    "    ## FILL HERE\n",
    "    for param_name, param in parameters.items():\n",
    "        if param.grad is not None:\n",
    "            with torch.no_grad():\n",
    "                param -= learning_rate * param.grad\n",
    "\n",
    "        param.grad = None # Zero out the gradients"
   ]
  },
  {
   "cell_type": "markdown",
   "id": "e17b4cf8",
   "metadata": {
    "pycharm": {
     "name": "#%% md\n"
    }
   },
   "source": [
    "Training functions:"
   ]
  },
  {
   "cell_type": "code",
   "execution_count": 13,
   "id": "76c0f03b",
   "metadata": {
    "pycharm": {
     "name": "#%%\n"
    }
   },
   "outputs": [],
   "source": [
    "def accuracy(y_pred: np.ndarray, y_true: np.ndarray):\n",
    "    ## FILL HERE\n",
    "    acc = np.mean(y_pred == y_true)\n",
    "    return acc\n",
    "\n",
    "def train(train_loader, learning_rate=0.001, epoch=None):\n",
    "    '''This function implements the training loop for a single epoch. For each batch you should do the following:\n",
    "        1- Calculate the output of the model to the given input batch\n",
    "        2- Calculate the loss based on the model output\n",
    "        3- Update the gradients using loss.backward() method\n",
    "        4- Optimize the model parameters using the sgd_optimizer function defined previously\n",
    "        5- Print the train loss (Show the epoch and batch as well)\n",
    "        '''\n",
    "    train_loss = 0\n",
    "    N_train = len(train_loader.dataset)\n",
    "    \n",
    "    # Creating empty lists Y and Y_pred to store the labels and predictions of each batch\n",
    "    # for calculating the accuracy later\n",
    "    Y = []\n",
    "    Y_pred = []\n",
    "    \n",
    "    \n",
    "    for i, (x, y) in enumerate(train_loader):\n",
    "        x = x.to(device)\n",
    "        y = y.to(device)\n",
    "        p = model(x, parameters)\n",
    "\n",
    "        ## FILL HERE\n",
    "        loss = cross_entropy_loss(p, y)\n",
    "        loss.backward()\n",
    "        sgd_optimizer(parameters, learning_rate)\n",
    "        train_loss += loss.item() * x.size(0)\n",
    "\n",
    "        y_pred = p.argmax(dim=-1)\n",
    "        Y.append(y.cpu().numpy())\n",
    "        Y_pred.append(y_pred.cpu().numpy())\n",
    "        if (i + 1) % 64 == 0:\n",
    "            print(f'Epoch [{epoch}], Batch [{i+1}/{len(train_loader)}], Train Loss: [{loss.item():.5f}]')\n",
    "    train_loss /= N_train\n",
    "    Y = np.concatenate(Y)\n",
    "    Y_pred = np.concatenate(Y_pred)\n",
    "    acc = accuracy(Y_pred, Y)\n",
    "    print(f'Accuracy of train set: {acc}')\n",
    "    return train_loss, acc\n",
    "\n",
    "\n",
    "def validate(loader, epoch=None, set_name=\"Test set\"):\n",
    "    '''\n",
    "    This function validates the model on the test dataloader. The function goes through each batch and does\n",
    "    the following on each batch:\n",
    "        1- Calculate the model output\n",
    "        2- Calculate the loss using the model output\n",
    "        3- Print the loss for each batch and epoch\n",
    "    \n",
    "    Finally, the function calculates the model accuracy.\n",
    "    '''\n",
    "    total_loss = 0\n",
    "    N = len(loader.dataset)\n",
    "    \n",
    "    # Creating empty lists Y and Y_pred to store the labels and predictions of each batch\n",
    "    # for calculating the accuracy later\n",
    "    Y = []\n",
    "    Y_pred = []\n",
    "    for i, (x, y) in enumerate(train_loader):\n",
    "        x = x.to(device)\n",
    "        y = y.to(device)\n",
    "        p = model(x, parameters)\n",
    "\n",
    "        ## FILL HERE\n",
    "        loss = cross_entropy_loss(p, y)\n",
    "        # Add the batch loss to the total loss\n",
    "        total_loss += loss.item()\n",
    "        # Print the loss for each batch and epoch\n",
    "        if (i + 1) % 64 == 0:\n",
    "            print(f'Epoch [{epoch}], [{set_name}] batch [{i+1}/{len(train_loader)}], loss=[{loss.item():.5f}]')\n",
    "\n",
    "        y_pred = p.argmax(dim=-1)\n",
    "        Y.append(y.cpu().numpy())\n",
    "        Y_pred.append(y_pred.cpu().numpy())\n",
    "    Y = np.concatenate(Y)\n",
    "    Y_pred = np.concatenate(Y_pred)\n",
    "    total_loss /= N\n",
    "    acc = accuracy(Y_pred, Y)\n",
    "    print(f'Accuracy of {set_name} set: [{acc}]')\n",
    "\n",
    "    return total_loss, acc"
   ]
  },
  {
   "cell_type": "code",
   "execution_count": 14,
   "id": "87ebb4b6",
   "metadata": {
    "pycharm": {
     "name": "#%%\n"
    }
   },
   "outputs": [],
   "source": [
    "train_losses = []\n",
    "test_losses = []\n",
    "train_accuracies = []\n",
    "test_accuracies = []"
   ]
  },
  {
   "cell_type": "code",
   "execution_count": 15,
   "id": "28d4eb0b",
   "metadata": {
    "pycharm": {
     "name": "#%%\n"
    }
   },
   "outputs": [],
   "source": [
    "def train_model(dataloaders, num_epochs, learning_rate=0.001, model_name='pytorch_model'):\n",
    "    '''This function trains the model for the number of epochs given and stores, calculates and prints the train\n",
    "    and test losses and accuracies. Finally, it plots the accuracy and loss history for training and test sets'''\n",
    "    train_loader, test_loader = dataloaders\n",
    "    train_losses = []\n",
    "    test_losses = []\n",
    "    train_accuracies = []\n",
    "    test_accuracies = []\n",
    "    for epoch in range(num_epochs):\n",
    "        ## FILL HERE\n",
    "        ## You should calculate the train and test loss and accuracies for each epoch and add them to\n",
    "        train_loss , train_accuracy =train(train_loader,learning_rate,epoch)\n",
    "        test_loss , test_accuracy = validate(test_loader,epoch)\n",
    "        ## the lists `train_losses`, `test_losses`, `train_accuracies` and `test_accuracies`\n",
    "        train_losses.append(train_loss)\n",
    "        train_accuracies.append(train_accuracy)\n",
    "        test_losses.append(test_loss)\n",
    "        test_accuracies.append(test_accuracy)\n",
    "    ## plot the loss history of training and test sets \n",
    "    ## FILL HERE\n",
    "    plt.plot(train_losses, label='Train Loss')\n",
    "    plt.plot(test_losses, label='Test Loss')\n",
    "    plt.legend()\n",
    "    plt.show()\n",
    "\n",
    "    ## plot the accuracy history of training and test sets\n",
    "    ## FILL HERE\n",
    "    plt.plot(train_accuracies, label='Train Accuracy')\n",
    "    plt.plot(test_accuracies, label='Test Accuracy')\n",
    "    plt.legend()\n",
    "    plt.show()\n",
    "    return train_losses , train_accuracies, test_losses ,test_accuracies"
   ]
  },
  {
   "cell_type": "code",
   "execution_count": 16,
   "id": "2ec4bdd2",
   "metadata": {
    "pycharm": {
     "name": "#%%\n"
    }
   },
   "outputs": [
    {
     "name": "stdout",
     "output_type": "stream",
     "text": [
      "Epoch [0], Batch [64/938], Train Loss: [2.30137]\n",
      "Epoch [0], Batch [128/938], Train Loss: [2.29961]\n",
      "Epoch [0], Batch [192/938], Train Loss: [2.29991]\n",
      "Epoch [0], Batch [256/938], Train Loss: [2.29872]\n",
      "Epoch [0], Batch [320/938], Train Loss: [2.29874]\n",
      "Epoch [0], Batch [384/938], Train Loss: [2.29487]\n",
      "Epoch [0], Batch [448/938], Train Loss: [2.29662]\n",
      "Epoch [0], Batch [512/938], Train Loss: [2.29433]\n",
      "Epoch [0], Batch [576/938], Train Loss: [2.29357]\n",
      "Epoch [0], Batch [640/938], Train Loss: [2.29483]\n",
      "Epoch [0], Batch [704/938], Train Loss: [2.29290]\n",
      "Epoch [0], Batch [768/938], Train Loss: [2.29216]\n",
      "Epoch [0], Batch [832/938], Train Loss: [2.28664]\n",
      "Epoch [0], Batch [896/938], Train Loss: [2.28353]\n",
      "Accuracy of train set: 0.3332333333333333\n",
      "Epoch [0], [Test set] batch [64/938], loss=[2.28886]\n",
      "Epoch [0], [Test set] batch [128/938], loss=[2.28406]\n",
      "Epoch [0], [Test set] batch [192/938], loss=[2.28462]\n",
      "Epoch [0], [Test set] batch [256/938], loss=[2.28161]\n",
      "Epoch [0], [Test set] batch [320/938], loss=[2.28317]\n",
      "Epoch [0], [Test set] batch [384/938], loss=[2.28327]\n",
      "Epoch [0], [Test set] batch [448/938], loss=[2.28754]\n",
      "Epoch [0], [Test set] batch [512/938], loss=[2.29001]\n",
      "Epoch [0], [Test set] batch [576/938], loss=[2.28562]\n",
      "Epoch [0], [Test set] batch [640/938], loss=[2.28572]\n",
      "Epoch [0], [Test set] batch [704/938], loss=[2.28334]\n",
      "Epoch [0], [Test set] batch [768/938], loss=[2.28627]\n",
      "Epoch [0], [Test set] batch [832/938], loss=[2.27920]\n",
      "Epoch [0], [Test set] batch [896/938], loss=[2.28320]\n",
      "Accuracy of Test set set: [0.4416833333333333]\n",
      "Epoch [1], Batch [64/938], Train Loss: [2.28513]\n",
      "Epoch [1], Batch [128/938], Train Loss: [2.27499]\n",
      "Epoch [1], Batch [192/938], Train Loss: [2.27414]\n",
      "Epoch [1], Batch [256/938], Train Loss: [2.27403]\n",
      "Epoch [1], Batch [320/938], Train Loss: [2.27991]\n",
      "Epoch [1], Batch [384/938], Train Loss: [2.25914]\n",
      "Epoch [1], Batch [448/938], Train Loss: [2.26385]\n",
      "Epoch [1], Batch [512/938], Train Loss: [2.26732]\n",
      "Epoch [1], Batch [576/938], Train Loss: [2.25937]\n",
      "Epoch [1], Batch [640/938], Train Loss: [2.26081]\n",
      "Epoch [1], Batch [704/938], Train Loss: [2.24641]\n",
      "Epoch [1], Batch [768/938], Train Loss: [2.24802]\n",
      "Epoch [1], Batch [832/938], Train Loss: [2.22670]\n",
      "Epoch [1], Batch [896/938], Train Loss: [2.19397]\n",
      "Accuracy of train set: 0.4459\n",
      "Epoch [1], [Test set] batch [64/938], loss=[2.21005]\n",
      "Epoch [1], [Test set] batch [128/938], loss=[2.19613]\n",
      "Epoch [1], [Test set] batch [192/938], loss=[2.20652]\n",
      "Epoch [1], [Test set] batch [256/938], loss=[2.21343]\n",
      "Epoch [1], [Test set] batch [320/938], loss=[2.21391]\n",
      "Epoch [1], [Test set] batch [384/938], loss=[2.20878]\n",
      "Epoch [1], [Test set] batch [448/938], loss=[2.20514]\n",
      "Epoch [1], [Test set] batch [512/938], loss=[2.19930]\n",
      "Epoch [1], [Test set] batch [576/938], loss=[2.21035]\n",
      "Epoch [1], [Test set] batch [640/938], loss=[2.22133]\n",
      "Epoch [1], [Test set] batch [704/938], loss=[2.18201]\n",
      "Epoch [1], [Test set] batch [768/938], loss=[2.20102]\n",
      "Epoch [1], [Test set] batch [832/938], loss=[2.18486]\n",
      "Epoch [1], [Test set] batch [896/938], loss=[2.19209]\n",
      "Accuracy of Test set set: [0.45375]\n",
      "Epoch [2], Batch [64/938], Train Loss: [2.21577]\n",
      "Epoch [2], Batch [128/938], Train Loss: [2.09481]\n",
      "Epoch [2], Batch [192/938], Train Loss: [2.11578]\n",
      "Epoch [2], Batch [256/938], Train Loss: [2.06927]\n",
      "Epoch [2], Batch [320/938], Train Loss: [1.99775]\n",
      "Epoch [2], Batch [384/938], Train Loss: [2.01748]\n",
      "Epoch [2], Batch [448/938], Train Loss: [2.00807]\n",
      "Epoch [2], Batch [512/938], Train Loss: [1.92471]\n",
      "Epoch [2], Batch [576/938], Train Loss: [1.89541]\n",
      "Epoch [2], Batch [640/938], Train Loss: [1.65154]\n",
      "Epoch [2], Batch [704/938], Train Loss: [1.78669]\n",
      "Epoch [2], Batch [768/938], Train Loss: [1.79448]\n",
      "Epoch [2], Batch [832/938], Train Loss: [1.73252]\n",
      "Epoch [2], Batch [896/938], Train Loss: [1.87162]\n",
      "Accuracy of train set: 0.4462833333333333\n",
      "Epoch [2], [Test set] batch [64/938], loss=[1.62983]\n",
      "Epoch [2], [Test set] batch [128/938], loss=[1.77663]\n",
      "Epoch [2], [Test set] batch [192/938], loss=[1.58043]\n",
      "Epoch [2], [Test set] batch [256/938], loss=[1.95862]\n",
      "Epoch [2], [Test set] batch [320/938], loss=[1.40658]\n",
      "Epoch [2], [Test set] batch [384/938], loss=[1.74300]\n",
      "Epoch [2], [Test set] batch [448/938], loss=[1.64258]\n",
      "Epoch [2], [Test set] batch [512/938], loss=[1.52518]\n",
      "Epoch [2], [Test set] batch [576/938], loss=[1.74108]\n",
      "Epoch [2], [Test set] batch [640/938], loss=[1.62532]\n",
      "Epoch [2], [Test set] batch [704/938], loss=[1.71392]\n",
      "Epoch [2], [Test set] batch [768/938], loss=[1.62280]\n",
      "Epoch [2], [Test set] batch [832/938], loss=[1.67961]\n",
      "Epoch [2], [Test set] batch [896/938], loss=[1.55609]\n",
      "Accuracy of Test set set: [0.4758833333333333]\n",
      "Epoch [3], Batch [64/938], Train Loss: [1.77173]\n",
      "Epoch [3], Batch [128/938], Train Loss: [1.49246]\n",
      "Epoch [3], Batch [192/938], Train Loss: [1.48717]\n",
      "Epoch [3], Batch [256/938], Train Loss: [1.37311]\n",
      "Epoch [3], Batch [320/938], Train Loss: [1.59026]\n",
      "Epoch [3], Batch [384/938], Train Loss: [1.34111]\n",
      "Epoch [3], Batch [448/938], Train Loss: [1.28977]\n",
      "Epoch [3], Batch [512/938], Train Loss: [1.66638]\n",
      "Epoch [3], Batch [576/938], Train Loss: [1.53350]\n",
      "Epoch [3], Batch [640/938], Train Loss: [1.51967]\n",
      "Epoch [3], Batch [704/938], Train Loss: [1.63623]\n",
      "Epoch [3], Batch [768/938], Train Loss: [1.42771]\n",
      "Epoch [3], Batch [832/938], Train Loss: [0.90335]\n",
      "Epoch [3], Batch [896/938], Train Loss: [1.35305]\n",
      "Accuracy of train set: 0.4851\n",
      "Epoch [3], [Test set] batch [64/938], loss=[1.53202]\n",
      "Epoch [3], [Test set] batch [128/938], loss=[1.43010]\n",
      "Epoch [3], [Test set] batch [192/938], loss=[1.36239]\n",
      "Epoch [3], [Test set] batch [256/938], loss=[1.36601]\n",
      "Epoch [3], [Test set] batch [320/938], loss=[1.27385]\n",
      "Epoch [3], [Test set] batch [384/938], loss=[1.25482]\n",
      "Epoch [3], [Test set] batch [448/938], loss=[1.37389]\n",
      "Epoch [3], [Test set] batch [512/938], loss=[1.35238]\n",
      "Epoch [3], [Test set] batch [576/938], loss=[1.59946]\n",
      "Epoch [3], [Test set] batch [640/938], loss=[1.50305]\n",
      "Epoch [3], [Test set] batch [704/938], loss=[1.35216]\n",
      "Epoch [3], [Test set] batch [768/938], loss=[1.38027]\n",
      "Epoch [3], [Test set] batch [832/938], loss=[1.05840]\n",
      "Epoch [3], [Test set] batch [896/938], loss=[1.23768]\n",
      "Accuracy of Test set set: [0.50025]\n",
      "Epoch [4], Batch [64/938], Train Loss: [1.54854]\n",
      "Epoch [4], Batch [128/938], Train Loss: [1.33622]\n",
      "Epoch [4], Batch [192/938], Train Loss: [1.17233]\n",
      "Epoch [4], Batch [256/938], Train Loss: [1.58633]\n",
      "Epoch [4], Batch [320/938], Train Loss: [1.12633]\n",
      "Epoch [4], Batch [384/938], Train Loss: [1.43466]\n",
      "Epoch [4], Batch [448/938], Train Loss: [1.26977]\n",
      "Epoch [4], Batch [512/938], Train Loss: [1.30491]\n",
      "Epoch [4], Batch [576/938], Train Loss: [1.58035]\n",
      "Epoch [4], Batch [640/938], Train Loss: [1.30001]\n",
      "Epoch [4], Batch [704/938], Train Loss: [1.28253]\n",
      "Epoch [4], Batch [768/938], Train Loss: [1.26638]\n",
      "Epoch [4], Batch [832/938], Train Loss: [1.26083]\n",
      "Epoch [4], Batch [896/938], Train Loss: [1.36593]\n",
      "Accuracy of train set: 0.5203833333333333\n",
      "Epoch [4], [Test set] batch [64/938], loss=[1.37460]\n",
      "Epoch [4], [Test set] batch [128/938], loss=[1.29107]\n",
      "Epoch [4], [Test set] batch [192/938], loss=[1.25080]\n",
      "Epoch [4], [Test set] batch [256/938], loss=[1.23602]\n",
      "Epoch [4], [Test set] batch [320/938], loss=[1.16177]\n",
      "Epoch [4], [Test set] batch [384/938], loss=[1.21937]\n",
      "Epoch [4], [Test set] batch [448/938], loss=[1.43405]\n",
      "Epoch [4], [Test set] batch [512/938], loss=[1.16324]\n",
      "Epoch [4], [Test set] batch [576/938], loss=[1.18511]\n",
      "Epoch [4], [Test set] batch [640/938], loss=[1.21639]\n",
      "Epoch [4], [Test set] batch [704/938], loss=[1.27082]\n",
      "Epoch [4], [Test set] batch [768/938], loss=[1.24516]\n",
      "Epoch [4], [Test set] batch [832/938], loss=[1.38156]\n",
      "Epoch [4], [Test set] batch [896/938], loss=[1.17377]\n",
      "Accuracy of Test set set: [0.5296666666666666]\n",
      "Epoch [5], Batch [64/938], Train Loss: [1.20197]\n",
      "Epoch [5], Batch [128/938], Train Loss: [1.26665]\n",
      "Epoch [5], Batch [192/938], Train Loss: [0.97048]\n",
      "Epoch [5], Batch [256/938], Train Loss: [1.22988]\n",
      "Epoch [5], Batch [320/938], Train Loss: [1.11432]\n",
      "Epoch [5], Batch [384/938], Train Loss: [1.41780]\n",
      "Epoch [5], Batch [448/938], Train Loss: [1.20410]\n",
      "Epoch [5], Batch [512/938], Train Loss: [1.27476]\n",
      "Epoch [5], Batch [576/938], Train Loss: [1.52111]\n",
      "Epoch [5], Batch [640/938], Train Loss: [1.17700]\n",
      "Epoch [5], Batch [704/938], Train Loss: [1.24328]\n",
      "Epoch [5], Batch [768/938], Train Loss: [1.19008]\n",
      "Epoch [5], Batch [832/938], Train Loss: [1.33613]\n",
      "Epoch [5], Batch [896/938], Train Loss: [1.26402]\n",
      "Accuracy of train set: 0.54895\n",
      "Epoch [5], [Test set] batch [64/938], loss=[1.11967]\n",
      "Epoch [5], [Test set] batch [128/938], loss=[1.07628]\n",
      "Epoch [5], [Test set] batch [192/938], loss=[1.30636]\n",
      "Epoch [5], [Test set] batch [256/938], loss=[1.24452]\n",
      "Epoch [5], [Test set] batch [320/938], loss=[1.38571]\n",
      "Epoch [5], [Test set] batch [384/938], loss=[0.81620]\n",
      "Epoch [5], [Test set] batch [448/938], loss=[1.14881]\n",
      "Epoch [5], [Test set] batch [512/938], loss=[1.16440]\n",
      "Epoch [5], [Test set] batch [576/938], loss=[1.22217]\n",
      "Epoch [5], [Test set] batch [640/938], loss=[1.15684]\n",
      "Epoch [5], [Test set] batch [704/938], loss=[1.30684]\n",
      "Epoch [5], [Test set] batch [768/938], loss=[1.25080]\n",
      "Epoch [5], [Test set] batch [832/938], loss=[1.49553]\n",
      "Epoch [5], [Test set] batch [896/938], loss=[1.28937]\n",
      "Accuracy of Test set set: [0.5709833333333333]\n",
      "Epoch [6], Batch [64/938], Train Loss: [1.30237]\n",
      "Epoch [6], Batch [128/938], Train Loss: [1.06145]\n",
      "Epoch [6], Batch [192/938], Train Loss: [1.48070]\n",
      "Epoch [6], Batch [256/938], Train Loss: [1.47035]\n",
      "Epoch [6], Batch [320/938], Train Loss: [1.06544]\n",
      "Epoch [6], Batch [384/938], Train Loss: [1.25989]\n",
      "Epoch [6], Batch [448/938], Train Loss: [1.22455]\n",
      "Epoch [6], Batch [512/938], Train Loss: [1.51560]\n",
      "Epoch [6], Batch [576/938], Train Loss: [1.25851]\n",
      "Epoch [6], Batch [640/938], Train Loss: [1.25545]\n",
      "Epoch [6], Batch [704/938], Train Loss: [1.13154]\n",
      "Epoch [6], Batch [768/938], Train Loss: [1.07164]\n",
      "Epoch [6], Batch [832/938], Train Loss: [1.24557]\n",
      "Epoch [6], Batch [896/938], Train Loss: [1.20751]\n",
      "Accuracy of train set: 0.5718666666666666\n",
      "Epoch [6], [Test set] batch [64/938], loss=[1.43252]\n",
      "Epoch [6], [Test set] batch [128/938], loss=[1.27127]\n",
      "Epoch [6], [Test set] batch [192/938], loss=[1.06815]\n",
      "Epoch [6], [Test set] batch [256/938], loss=[1.14308]\n",
      "Epoch [6], [Test set] batch [320/938], loss=[1.12962]\n",
      "Epoch [6], [Test set] batch [384/938], loss=[1.27183]\n",
      "Epoch [6], [Test set] batch [448/938], loss=[1.44826]\n",
      "Epoch [6], [Test set] batch [512/938], loss=[1.23954]\n",
      "Epoch [6], [Test set] batch [576/938], loss=[1.19915]\n",
      "Epoch [6], [Test set] batch [640/938], loss=[1.25693]\n",
      "Epoch [6], [Test set] batch [704/938], loss=[1.14017]\n",
      "Epoch [6], [Test set] batch [768/938], loss=[1.05333]\n",
      "Epoch [6], [Test set] batch [832/938], loss=[1.24350]\n",
      "Epoch [6], [Test set] batch [896/938], loss=[1.14291]\n",
      "Accuracy of Test set set: [0.57515]\n",
      "Epoch [7], Batch [64/938], Train Loss: [0.98073]\n",
      "Epoch [7], Batch [128/938], Train Loss: [1.17027]\n",
      "Epoch [7], Batch [192/938], Train Loss: [1.01859]\n",
      "Epoch [7], Batch [256/938], Train Loss: [0.88071]\n",
      "Epoch [7], Batch [320/938], Train Loss: [1.09355]\n",
      "Epoch [7], Batch [384/938], Train Loss: [1.10544]\n",
      "Epoch [7], Batch [448/938], Train Loss: [1.07931]\n",
      "Epoch [7], Batch [512/938], Train Loss: [1.22649]\n",
      "Epoch [7], Batch [576/938], Train Loss: [1.19080]\n",
      "Epoch [7], Batch [640/938], Train Loss: [1.24425]\n",
      "Epoch [7], Batch [704/938], Train Loss: [1.13887]\n",
      "Epoch [7], Batch [768/938], Train Loss: [1.22464]\n",
      "Epoch [7], Batch [832/938], Train Loss: [1.16803]\n",
      "Epoch [7], Batch [896/938], Train Loss: [0.92126]\n",
      "Accuracy of train set: 0.59\n",
      "Epoch [7], [Test set] batch [64/938], loss=[1.09743]\n",
      "Epoch [7], [Test set] batch [128/938], loss=[1.29918]\n",
      "Epoch [7], [Test set] batch [192/938], loss=[1.09961]\n",
      "Epoch [7], [Test set] batch [256/938], loss=[1.22794]\n",
      "Epoch [7], [Test set] batch [320/938], loss=[1.41994]\n",
      "Epoch [7], [Test set] batch [384/938], loss=[1.04251]\n",
      "Epoch [7], [Test set] batch [448/938], loss=[1.22887]\n",
      "Epoch [7], [Test set] batch [512/938], loss=[1.10467]\n",
      "Epoch [7], [Test set] batch [576/938], loss=[1.07922]\n",
      "Epoch [7], [Test set] batch [640/938], loss=[1.02498]\n",
      "Epoch [7], [Test set] batch [704/938], loss=[1.16574]\n",
      "Epoch [7], [Test set] batch [768/938], loss=[1.09299]\n",
      "Epoch [7], [Test set] batch [832/938], loss=[1.34165]\n",
      "Epoch [7], [Test set] batch [896/938], loss=[1.27308]\n",
      "Accuracy of Test set set: [0.5951666666666666]\n",
      "Epoch [8], Batch [64/938], Train Loss: [1.15221]\n",
      "Epoch [8], Batch [128/938], Train Loss: [1.28188]\n",
      "Epoch [8], Batch [192/938], Train Loss: [1.16845]\n",
      "Epoch [8], Batch [256/938], Train Loss: [1.24089]\n",
      "Epoch [8], Batch [320/938], Train Loss: [1.13206]\n",
      "Epoch [8], Batch [384/938], Train Loss: [1.22023]\n",
      "Epoch [8], Batch [448/938], Train Loss: [1.36601]\n",
      "Epoch [8], Batch [512/938], Train Loss: [1.23565]\n",
      "Epoch [8], Batch [576/938], Train Loss: [1.15389]\n",
      "Epoch [8], Batch [640/938], Train Loss: [1.26039]\n",
      "Epoch [8], Batch [704/938], Train Loss: [1.27204]\n",
      "Epoch [8], Batch [768/938], Train Loss: [1.21437]\n",
      "Epoch [8], Batch [832/938], Train Loss: [0.94324]\n",
      "Epoch [8], Batch [896/938], Train Loss: [1.31585]\n",
      "Accuracy of train set: 0.60345\n",
      "Epoch [8], [Test set] batch [64/938], loss=[1.18938]\n",
      "Epoch [8], [Test set] batch [128/938], loss=[1.01685]\n",
      "Epoch [8], [Test set] batch [192/938], loss=[1.10532]\n",
      "Epoch [8], [Test set] batch [256/938], loss=[1.11096]\n",
      "Epoch [8], [Test set] batch [320/938], loss=[1.07841]\n",
      "Epoch [8], [Test set] batch [384/938], loss=[1.22523]\n",
      "Epoch [8], [Test set] batch [448/938], loss=[1.08861]\n",
      "Epoch [8], [Test set] batch [512/938], loss=[0.97093]\n",
      "Epoch [8], [Test set] batch [576/938], loss=[1.29425]\n",
      "Epoch [8], [Test set] batch [640/938], loss=[1.16631]\n",
      "Epoch [8], [Test set] batch [704/938], loss=[1.25607]\n",
      "Epoch [8], [Test set] batch [768/938], loss=[1.48337]\n",
      "Epoch [8], [Test set] batch [832/938], loss=[1.22566]\n",
      "Epoch [8], [Test set] batch [896/938], loss=[1.11146]\n",
      "Accuracy of Test set set: [0.6090666666666666]\n",
      "Epoch [9], Batch [64/938], Train Loss: [1.12514]\n",
      "Epoch [9], Batch [128/938], Train Loss: [1.21282]\n",
      "Epoch [9], Batch [192/938], Train Loss: [1.26565]\n",
      "Epoch [9], Batch [256/938], Train Loss: [1.19477]\n",
      "Epoch [9], Batch [320/938], Train Loss: [1.06596]\n",
      "Epoch [9], Batch [384/938], Train Loss: [1.06332]\n",
      "Epoch [9], Batch [448/938], Train Loss: [1.14469]\n",
      "Epoch [9], Batch [512/938], Train Loss: [0.98925]\n",
      "Epoch [9], Batch [576/938], Train Loss: [1.10115]\n",
      "Epoch [9], Batch [640/938], Train Loss: [1.46014]\n",
      "Epoch [9], Batch [704/938], Train Loss: [1.26211]\n",
      "Epoch [9], Batch [768/938], Train Loss: [1.18753]\n",
      "Epoch [9], Batch [832/938], Train Loss: [1.32757]\n",
      "Epoch [9], Batch [896/938], Train Loss: [0.96673]\n",
      "Accuracy of train set: 0.6140833333333333\n",
      "Epoch [9], [Test set] batch [64/938], loss=[1.24217]\n",
      "Epoch [9], [Test set] batch [128/938], loss=[1.14996]\n",
      "Epoch [9], [Test set] batch [192/938], loss=[1.10688]\n",
      "Epoch [9], [Test set] batch [256/938], loss=[1.01551]\n",
      "Epoch [9], [Test set] batch [320/938], loss=[1.26433]\n",
      "Epoch [9], [Test set] batch [384/938], loss=[1.26916]\n",
      "Epoch [9], [Test set] batch [448/938], loss=[1.02686]\n",
      "Epoch [9], [Test set] batch [512/938], loss=[1.20776]\n",
      "Epoch [9], [Test set] batch [576/938], loss=[0.91579]\n",
      "Epoch [9], [Test set] batch [640/938], loss=[1.10453]\n",
      "Epoch [9], [Test set] batch [704/938], loss=[1.29225]\n",
      "Epoch [9], [Test set] batch [768/938], loss=[1.25754]\n",
      "Epoch [9], [Test set] batch [832/938], loss=[1.22847]\n",
      "Epoch [9], [Test set] batch [896/938], loss=[1.05546]\n",
      "Accuracy of Test set set: [0.6386]\n",
      "Epoch [10], Batch [64/938], Train Loss: [1.11217]\n",
      "Epoch [10], Batch [128/938], Train Loss: [0.72614]\n",
      "Epoch [10], Batch [192/938], Train Loss: [1.18325]\n",
      "Epoch [10], Batch [256/938], Train Loss: [1.03970]\n",
      "Epoch [10], Batch [320/938], Train Loss: [1.21946]\n",
      "Epoch [10], Batch [384/938], Train Loss: [0.89274]\n",
      "Epoch [10], Batch [448/938], Train Loss: [0.95352]\n",
      "Epoch [10], Batch [512/938], Train Loss: [1.06198]\n",
      "Epoch [10], Batch [576/938], Train Loss: [1.04537]\n",
      "Epoch [10], Batch [640/938], Train Loss: [1.09526]\n",
      "Epoch [10], Batch [704/938], Train Loss: [0.98481]\n",
      "Epoch [10], Batch [768/938], Train Loss: [1.15217]\n",
      "Epoch [10], Batch [832/938], Train Loss: [0.99723]\n",
      "Epoch [10], Batch [896/938], Train Loss: [0.94205]\n",
      "Accuracy of train set: 0.6762166666666667\n",
      "Epoch [10], [Test set] batch [64/938], loss=[1.12200]\n",
      "Epoch [10], [Test set] batch [128/938], loss=[0.67119]\n",
      "Epoch [10], [Test set] batch [192/938], loss=[0.86507]\n",
      "Epoch [10], [Test set] batch [256/938], loss=[1.11500]\n",
      "Epoch [10], [Test set] batch [320/938], loss=[0.94495]\n",
      "Epoch [10], [Test set] batch [384/938], loss=[1.00778]\n",
      "Epoch [10], [Test set] batch [448/938], loss=[0.89765]\n",
      "Epoch [10], [Test set] batch [512/938], loss=[1.14217]\n",
      "Epoch [10], [Test set] batch [576/938], loss=[0.83927]\n",
      "Epoch [10], [Test set] batch [640/938], loss=[1.09284]\n",
      "Epoch [10], [Test set] batch [704/938], loss=[0.87549]\n",
      "Epoch [10], [Test set] batch [768/938], loss=[1.10970]\n",
      "Epoch [10], [Test set] batch [832/938], loss=[0.97423]\n",
      "Epoch [10], [Test set] batch [896/938], loss=[0.95732]\n",
      "Accuracy of Test set set: [0.7054833333333334]\n",
      "Epoch [11], Batch [64/938], Train Loss: [0.90066]\n",
      "Epoch [11], Batch [128/938], Train Loss: [1.05664]\n",
      "Epoch [11], Batch [192/938], Train Loss: [0.85623]\n",
      "Epoch [11], Batch [256/938], Train Loss: [1.14917]\n",
      "Epoch [11], Batch [320/938], Train Loss: [0.93053]\n",
      "Epoch [11], Batch [384/938], Train Loss: [1.24627]\n",
      "Epoch [11], Batch [448/938], Train Loss: [1.00195]\n",
      "Epoch [11], Batch [512/938], Train Loss: [1.42000]\n",
      "Epoch [11], Batch [576/938], Train Loss: [1.16285]\n",
      "Epoch [11], Batch [640/938], Train Loss: [1.02570]\n",
      "Epoch [11], Batch [704/938], Train Loss: [0.76242]\n",
      "Epoch [11], Batch [768/938], Train Loss: [0.98309]\n",
      "Epoch [11], Batch [832/938], Train Loss: [0.96139]\n",
      "Epoch [11], Batch [896/938], Train Loss: [0.81482]\n",
      "Accuracy of train set: 0.7085\n",
      "Epoch [11], [Test set] batch [64/938], loss=[0.91777]\n",
      "Epoch [11], [Test set] batch [128/938], loss=[1.04495]\n",
      "Epoch [11], [Test set] batch [192/938], loss=[1.15937]\n",
      "Epoch [11], [Test set] batch [256/938], loss=[0.82371]\n",
      "Epoch [11], [Test set] batch [320/938], loss=[0.76608]\n",
      "Epoch [11], [Test set] batch [384/938], loss=[0.72374]\n",
      "Epoch [11], [Test set] batch [448/938], loss=[0.99653]\n",
      "Epoch [11], [Test set] batch [512/938], loss=[0.99649]\n",
      "Epoch [11], [Test set] batch [576/938], loss=[1.05755]\n",
      "Epoch [11], [Test set] batch [640/938], loss=[0.95348]\n",
      "Epoch [11], [Test set] batch [704/938], loss=[0.69778]\n",
      "Epoch [11], [Test set] batch [768/938], loss=[0.89202]\n",
      "Epoch [11], [Test set] batch [832/938], loss=[1.08804]\n",
      "Epoch [11], [Test set] batch [896/938], loss=[0.81366]\n",
      "Accuracy of Test set set: [0.7238833333333333]\n",
      "Epoch [12], Batch [64/938], Train Loss: [0.80789]\n",
      "Epoch [12], Batch [128/938], Train Loss: [0.92786]\n",
      "Epoch [12], Batch [192/938], Train Loss: [0.81210]\n",
      "Epoch [12], Batch [256/938], Train Loss: [0.78668]\n",
      "Epoch [12], Batch [320/938], Train Loss: [0.84375]\n",
      "Epoch [12], Batch [384/938], Train Loss: [0.86974]\n",
      "Epoch [12], Batch [448/938], Train Loss: [0.92630]\n",
      "Epoch [12], Batch [512/938], Train Loss: [0.98937]\n",
      "Epoch [12], Batch [576/938], Train Loss: [0.96386]\n",
      "Epoch [12], Batch [640/938], Train Loss: [1.02938]\n",
      "Epoch [12], Batch [704/938], Train Loss: [0.80756]\n",
      "Epoch [12], Batch [768/938], Train Loss: [0.75234]\n",
      "Epoch [12], Batch [832/938], Train Loss: [0.99459]\n",
      "Epoch [12], Batch [896/938], Train Loss: [0.94140]\n",
      "Accuracy of train set: 0.7194166666666667\n",
      "Epoch [12], [Test set] batch [64/938], loss=[0.80249]\n",
      "Epoch [12], [Test set] batch [128/938], loss=[0.96021]\n",
      "Epoch [12], [Test set] batch [192/938], loss=[1.09105]\n",
      "Epoch [12], [Test set] batch [256/938], loss=[0.74197]\n",
      "Epoch [12], [Test set] batch [320/938], loss=[0.80412]\n",
      "Epoch [12], [Test set] batch [384/938], loss=[0.93895]\n",
      "Epoch [12], [Test set] batch [448/938], loss=[1.11759]\n",
      "Epoch [12], [Test set] batch [512/938], loss=[1.04720]\n",
      "Epoch [12], [Test set] batch [576/938], loss=[1.08910]\n",
      "Epoch [12], [Test set] batch [640/938], loss=[0.95070]\n",
      "Epoch [12], [Test set] batch [704/938], loss=[0.96380]\n",
      "Epoch [12], [Test set] batch [768/938], loss=[0.87450]\n",
      "Epoch [12], [Test set] batch [832/938], loss=[1.16459]\n",
      "Epoch [12], [Test set] batch [896/938], loss=[0.87703]\n",
      "Accuracy of Test set set: [0.7222166666666666]\n",
      "Epoch [13], Batch [64/938], Train Loss: [0.89556]\n",
      "Epoch [13], Batch [128/938], Train Loss: [0.91918]\n",
      "Epoch [13], Batch [192/938], Train Loss: [0.75065]\n",
      "Epoch [13], Batch [256/938], Train Loss: [0.89530]\n",
      "Epoch [13], Batch [320/938], Train Loss: [0.78337]\n",
      "Epoch [13], Batch [384/938], Train Loss: [0.67786]\n",
      "Epoch [13], Batch [448/938], Train Loss: [0.69795]\n",
      "Epoch [13], Batch [512/938], Train Loss: [0.85762]\n",
      "Epoch [13], Batch [576/938], Train Loss: [0.85862]\n",
      "Epoch [13], Batch [640/938], Train Loss: [1.04469]\n",
      "Epoch [13], Batch [704/938], Train Loss: [1.09847]\n",
      "Epoch [13], Batch [768/938], Train Loss: [1.00140]\n",
      "Epoch [13], Batch [832/938], Train Loss: [0.92335]\n",
      "Epoch [13], Batch [896/938], Train Loss: [1.07433]\n",
      "Accuracy of train set: 0.72525\n",
      "Epoch [13], [Test set] batch [64/938], loss=[0.93094]\n",
      "Epoch [13], [Test set] batch [128/938], loss=[0.89048]\n",
      "Epoch [13], [Test set] batch [192/938], loss=[0.82974]\n",
      "Epoch [13], [Test set] batch [256/938], loss=[0.79424]\n",
      "Epoch [13], [Test set] batch [320/938], loss=[0.84520]\n",
      "Epoch [13], [Test set] batch [384/938], loss=[1.05509]\n",
      "Epoch [13], [Test set] batch [448/938], loss=[0.96381]\n",
      "Epoch [13], [Test set] batch [512/938], loss=[0.57861]\n",
      "Epoch [13], [Test set] batch [576/938], loss=[0.85348]\n",
      "Epoch [13], [Test set] batch [640/938], loss=[0.96184]\n",
      "Epoch [13], [Test set] batch [704/938], loss=[0.99087]\n",
      "Epoch [13], [Test set] batch [768/938], loss=[1.10187]\n",
      "Epoch [13], [Test set] batch [832/938], loss=[1.02927]\n",
      "Epoch [13], [Test set] batch [896/938], loss=[0.95230]\n",
      "Accuracy of Test set set: [0.7177333333333333]\n",
      "Epoch [14], Batch [64/938], Train Loss: [0.75391]\n",
      "Epoch [14], Batch [128/938], Train Loss: [0.91360]\n",
      "Epoch [14], Batch [192/938], Train Loss: [0.88270]\n",
      "Epoch [14], Batch [256/938], Train Loss: [1.05560]\n",
      "Epoch [14], Batch [320/938], Train Loss: [0.86583]\n",
      "Epoch [14], Batch [384/938], Train Loss: [0.63107]\n",
      "Epoch [14], Batch [448/938], Train Loss: [0.90181]\n",
      "Epoch [14], Batch [512/938], Train Loss: [0.94408]\n",
      "Epoch [14], Batch [576/938], Train Loss: [0.94319]\n",
      "Epoch [14], Batch [640/938], Train Loss: [0.73721]\n",
      "Epoch [14], Batch [704/938], Train Loss: [0.96892]\n",
      "Epoch [14], Batch [768/938], Train Loss: [0.59211]\n",
      "Epoch [14], Batch [832/938], Train Loss: [0.56138]\n",
      "Epoch [14], Batch [896/938], Train Loss: [0.91735]\n",
      "Accuracy of train set: 0.7302833333333333\n",
      "Epoch [14], [Test set] batch [64/938], loss=[0.91067]\n",
      "Epoch [14], [Test set] batch [128/938], loss=[1.07054]\n",
      "Epoch [14], [Test set] batch [192/938], loss=[0.98328]\n",
      "Epoch [14], [Test set] batch [256/938], loss=[0.85091]\n",
      "Epoch [14], [Test set] batch [320/938], loss=[0.89950]\n",
      "Epoch [14], [Test set] batch [384/938], loss=[0.75691]\n",
      "Epoch [14], [Test set] batch [448/938], loss=[0.53006]\n",
      "Epoch [14], [Test set] batch [512/938], loss=[0.73445]\n",
      "Epoch [14], [Test set] batch [576/938], loss=[0.78825]\n",
      "Epoch [14], [Test set] batch [640/938], loss=[1.01856]\n",
      "Epoch [14], [Test set] batch [704/938], loss=[0.72914]\n",
      "Epoch [14], [Test set] batch [768/938], loss=[0.73699]\n",
      "Epoch [14], [Test set] batch [832/938], loss=[0.89441]\n",
      "Epoch [14], [Test set] batch [896/938], loss=[0.75715]\n",
      "Accuracy of Test set set: [0.7201333333333333]\n",
      "Epoch [15], Batch [64/938], Train Loss: [0.61029]\n",
      "Epoch [15], Batch [128/938], Train Loss: [0.83209]\n",
      "Epoch [15], Batch [192/938], Train Loss: [0.95004]\n",
      "Epoch [15], Batch [256/938], Train Loss: [1.00556]\n",
      "Epoch [15], Batch [320/938], Train Loss: [0.82025]\n",
      "Epoch [15], Batch [384/938], Train Loss: [1.05240]\n",
      "Epoch [15], Batch [448/938], Train Loss: [0.81976]\n",
      "Epoch [15], Batch [512/938], Train Loss: [0.48228]\n",
      "Epoch [15], Batch [576/938], Train Loss: [0.89752]\n",
      "Epoch [15], Batch [640/938], Train Loss: [0.99128]\n",
      "Epoch [15], Batch [704/938], Train Loss: [0.63394]\n",
      "Epoch [15], Batch [768/938], Train Loss: [0.94165]\n",
      "Epoch [15], Batch [832/938], Train Loss: [0.87618]\n",
      "Epoch [15], Batch [896/938], Train Loss: [0.88567]\n",
      "Accuracy of train set: 0.7337833333333333\n",
      "Epoch [15], [Test set] batch [64/938], loss=[0.81747]\n",
      "Epoch [15], [Test set] batch [128/938], loss=[1.13143]\n",
      "Epoch [15], [Test set] batch [192/938], loss=[0.70092]\n",
      "Epoch [15], [Test set] batch [256/938], loss=[1.02144]\n",
      "Epoch [15], [Test set] batch [320/938], loss=[0.85315]\n",
      "Epoch [15], [Test set] batch [384/938], loss=[0.82513]\n",
      "Epoch [15], [Test set] batch [448/938], loss=[1.05501]\n",
      "Epoch [15], [Test set] batch [512/938], loss=[1.31269]\n",
      "Epoch [15], [Test set] batch [576/938], loss=[1.01191]\n",
      "Epoch [15], [Test set] batch [640/938], loss=[0.86056]\n",
      "Epoch [15], [Test set] batch [704/938], loss=[0.74292]\n",
      "Epoch [15], [Test set] batch [768/938], loss=[0.68275]\n",
      "Epoch [15], [Test set] batch [832/938], loss=[0.89303]\n",
      "Epoch [15], [Test set] batch [896/938], loss=[0.83920]\n",
      "Accuracy of Test set set: [0.7443]\n",
      "Epoch [16], Batch [64/938], Train Loss: [0.65976]\n",
      "Epoch [16], Batch [128/938], Train Loss: [0.91164]\n",
      "Epoch [16], Batch [192/938], Train Loss: [1.07781]\n",
      "Epoch [16], Batch [256/938], Train Loss: [0.92565]\n",
      "Epoch [16], Batch [320/938], Train Loss: [0.77058]\n",
      "Epoch [16], Batch [384/938], Train Loss: [1.02442]\n",
      "Epoch [16], Batch [448/938], Train Loss: [0.63625]\n",
      "Epoch [16], Batch [512/938], Train Loss: [0.74488]\n",
      "Epoch [16], Batch [576/938], Train Loss: [0.79801]\n",
      "Epoch [16], Batch [640/938], Train Loss: [1.19513]\n",
      "Epoch [16], Batch [704/938], Train Loss: [0.81325]\n",
      "Epoch [16], Batch [768/938], Train Loss: [1.06740]\n",
      "Epoch [16], Batch [832/938], Train Loss: [0.88557]\n",
      "Epoch [16], Batch [896/938], Train Loss: [0.81735]\n",
      "Accuracy of train set: 0.7352666666666666\n",
      "Epoch [16], [Test set] batch [64/938], loss=[0.76118]\n",
      "Epoch [16], [Test set] batch [128/938], loss=[0.82726]\n",
      "Epoch [16], [Test set] batch [192/938], loss=[0.76038]\n",
      "Epoch [16], [Test set] batch [256/938], loss=[0.69640]\n",
      "Epoch [16], [Test set] batch [320/938], loss=[0.99101]\n",
      "Epoch [16], [Test set] batch [384/938], loss=[0.71486]\n",
      "Epoch [16], [Test set] batch [448/938], loss=[0.83388]\n",
      "Epoch [16], [Test set] batch [512/938], loss=[0.93994]\n",
      "Epoch [16], [Test set] batch [576/938], loss=[0.76387]\n",
      "Epoch [16], [Test set] batch [640/938], loss=[0.87619]\n",
      "Epoch [16], [Test set] batch [704/938], loss=[0.68504]\n",
      "Epoch [16], [Test set] batch [768/938], loss=[0.89791]\n",
      "Epoch [16], [Test set] batch [832/938], loss=[0.87291]\n",
      "Epoch [16], [Test set] batch [896/938], loss=[1.03342]\n",
      "Accuracy of Test set set: [0.73835]\n",
      "Epoch [17], Batch [64/938], Train Loss: [0.87261]\n",
      "Epoch [17], Batch [128/938], Train Loss: [0.93607]\n",
      "Epoch [17], Batch [192/938], Train Loss: [1.06593]\n",
      "Epoch [17], Batch [256/938], Train Loss: [0.85842]\n",
      "Epoch [17], Batch [320/938], Train Loss: [0.88871]\n",
      "Epoch [17], Batch [384/938], Train Loss: [0.62565]\n",
      "Epoch [17], Batch [448/938], Train Loss: [0.89174]\n",
      "Epoch [17], Batch [512/938], Train Loss: [0.65654]\n",
      "Epoch [17], Batch [576/938], Train Loss: [1.02658]\n",
      "Epoch [17], Batch [640/938], Train Loss: [0.97499]\n",
      "Epoch [17], Batch [704/938], Train Loss: [0.69148]\n",
      "Epoch [17], Batch [768/938], Train Loss: [0.69130]\n",
      "Epoch [17], Batch [832/938], Train Loss: [0.50317]\n",
      "Epoch [17], Batch [896/938], Train Loss: [0.87695]\n",
      "Accuracy of train set: 0.7364166666666667\n",
      "Epoch [17], [Test set] batch [64/938], loss=[0.69707]\n",
      "Epoch [17], [Test set] batch [128/938], loss=[0.56878]\n",
      "Epoch [17], [Test set] batch [192/938], loss=[0.88232]\n",
      "Epoch [17], [Test set] batch [256/938], loss=[0.91318]\n",
      "Epoch [17], [Test set] batch [320/938], loss=[0.89705]\n",
      "Epoch [17], [Test set] batch [384/938], loss=[0.80263]\n",
      "Epoch [17], [Test set] batch [448/938], loss=[0.85151]\n",
      "Epoch [17], [Test set] batch [512/938], loss=[0.75054]\n",
      "Epoch [17], [Test set] batch [576/938], loss=[0.55666]\n",
      "Epoch [17], [Test set] batch [640/938], loss=[0.82836]\n",
      "Epoch [17], [Test set] batch [704/938], loss=[0.80941]\n",
      "Epoch [17], [Test set] batch [768/938], loss=[0.62927]\n",
      "Epoch [17], [Test set] batch [832/938], loss=[0.90743]\n",
      "Epoch [17], [Test set] batch [896/938], loss=[0.74004]\n",
      "Accuracy of Test set set: [0.72075]\n",
      "Epoch [18], Batch [64/938], Train Loss: [0.88289]\n",
      "Epoch [18], Batch [128/938], Train Loss: [0.70880]\n",
      "Epoch [18], Batch [192/938], Train Loss: [0.80944]\n",
      "Epoch [18], Batch [256/938], Train Loss: [0.62985]\n",
      "Epoch [18], Batch [320/938], Train Loss: [0.76709]\n",
      "Epoch [18], Batch [384/938], Train Loss: [0.89639]\n",
      "Epoch [18], Batch [448/938], Train Loss: [0.86150]\n",
      "Epoch [18], Batch [512/938], Train Loss: [0.86167]\n",
      "Epoch [18], Batch [576/938], Train Loss: [0.83898]\n",
      "Epoch [18], Batch [640/938], Train Loss: [1.00018]\n",
      "Epoch [18], Batch [704/938], Train Loss: [0.61318]\n",
      "Epoch [18], Batch [768/938], Train Loss: [1.09462]\n",
      "Epoch [18], Batch [832/938], Train Loss: [0.55421]\n",
      "Epoch [18], Batch [896/938], Train Loss: [0.98008]\n",
      "Accuracy of train set: 0.7380666666666666\n",
      "Epoch [18], [Test set] batch [64/938], loss=[0.73785]\n",
      "Epoch [18], [Test set] batch [128/938], loss=[0.77161]\n",
      "Epoch [18], [Test set] batch [192/938], loss=[0.86865]\n",
      "Epoch [18], [Test set] batch [256/938], loss=[0.83275]\n",
      "Epoch [18], [Test set] batch [320/938], loss=[0.98180]\n",
      "Epoch [18], [Test set] batch [384/938], loss=[0.86913]\n",
      "Epoch [18], [Test set] batch [448/938], loss=[0.73711]\n",
      "Epoch [18], [Test set] batch [512/938], loss=[0.86258]\n",
      "Epoch [18], [Test set] batch [576/938], loss=[0.92509]\n",
      "Epoch [18], [Test set] batch [640/938], loss=[1.11567]\n",
      "Epoch [18], [Test set] batch [704/938], loss=[0.82555]\n",
      "Epoch [18], [Test set] batch [768/938], loss=[0.90007]\n",
      "Epoch [18], [Test set] batch [832/938], loss=[0.72836]\n",
      "Epoch [18], [Test set] batch [896/938], loss=[0.81543]\n",
      "Accuracy of Test set set: [0.7567166666666667]\n",
      "Epoch [19], Batch [64/938], Train Loss: [0.70110]\n",
      "Epoch [19], Batch [128/938], Train Loss: [0.67449]\n",
      "Epoch [19], Batch [192/938], Train Loss: [0.85497]\n",
      "Epoch [19], Batch [256/938], Train Loss: [1.27662]\n",
      "Epoch [19], Batch [320/938], Train Loss: [0.93415]\n",
      "Epoch [19], Batch [384/938], Train Loss: [0.62185]\n",
      "Epoch [19], Batch [448/938], Train Loss: [0.88809]\n",
      "Epoch [19], Batch [512/938], Train Loss: [0.80964]\n",
      "Epoch [19], Batch [576/938], Train Loss: [0.82407]\n",
      "Epoch [19], Batch [640/938], Train Loss: [1.00543]\n",
      "Epoch [19], Batch [704/938], Train Loss: [0.61493]\n",
      "Epoch [19], Batch [768/938], Train Loss: [0.84983]\n",
      "Epoch [19], Batch [832/938], Train Loss: [0.74947]\n",
      "Epoch [19], Batch [896/938], Train Loss: [1.04322]\n",
      "Accuracy of train set: 0.7409166666666667\n",
      "Epoch [19], [Test set] batch [64/938], loss=[0.92214]\n",
      "Epoch [19], [Test set] batch [128/938], loss=[0.85402]\n",
      "Epoch [19], [Test set] batch [192/938], loss=[0.85479]\n",
      "Epoch [19], [Test set] batch [256/938], loss=[0.77639]\n",
      "Epoch [19], [Test set] batch [320/938], loss=[0.84802]\n",
      "Epoch [19], [Test set] batch [384/938], loss=[0.80444]\n",
      "Epoch [19], [Test set] batch [448/938], loss=[0.59431]\n",
      "Epoch [19], [Test set] batch [512/938], loss=[0.84709]\n",
      "Epoch [19], [Test set] batch [576/938], loss=[0.79583]\n",
      "Epoch [19], [Test set] batch [640/938], loss=[0.63873]\n",
      "Epoch [19], [Test set] batch [704/938], loss=[0.86996]\n",
      "Epoch [19], [Test set] batch [768/938], loss=[0.86615]\n",
      "Epoch [19], [Test set] batch [832/938], loss=[0.68978]\n",
      "Epoch [19], [Test set] batch [896/938], loss=[0.81982]\n",
      "Accuracy of Test set set: [0.7437166666666667]\n",
      "Epoch [20], Batch [64/938], Train Loss: [0.93046]\n",
      "Epoch [20], Batch [128/938], Train Loss: [0.78617]\n",
      "Epoch [20], Batch [192/938], Train Loss: [1.14045]\n",
      "Epoch [20], Batch [256/938], Train Loss: [0.88974]\n",
      "Epoch [20], Batch [320/938], Train Loss: [1.19489]\n",
      "Epoch [20], Batch [384/938], Train Loss: [0.75786]\n",
      "Epoch [20], Batch [448/938], Train Loss: [0.84580]\n",
      "Epoch [20], Batch [512/938], Train Loss: [0.82858]\n",
      "Epoch [20], Batch [576/938], Train Loss: [0.60750]\n",
      "Epoch [20], Batch [640/938], Train Loss: [0.73265]\n",
      "Epoch [20], Batch [704/938], Train Loss: [1.10551]\n",
      "Epoch [20], Batch [768/938], Train Loss: [0.76362]\n",
      "Epoch [20], Batch [832/938], Train Loss: [0.81356]\n",
      "Epoch [20], Batch [896/938], Train Loss: [0.71074]\n",
      "Accuracy of train set: 0.7432666666666666\n",
      "Epoch [20], [Test set] batch [64/938], loss=[1.06809]\n",
      "Epoch [20], [Test set] batch [128/938], loss=[0.67335]\n",
      "Epoch [20], [Test set] batch [192/938], loss=[0.83573]\n",
      "Epoch [20], [Test set] batch [256/938], loss=[0.78997]\n",
      "Epoch [20], [Test set] batch [320/938], loss=[0.73705]\n",
      "Epoch [20], [Test set] batch [384/938], loss=[0.71867]\n",
      "Epoch [20], [Test set] batch [448/938], loss=[0.70697]\n",
      "Epoch [20], [Test set] batch [512/938], loss=[0.92407]\n",
      "Epoch [20], [Test set] batch [576/938], loss=[0.83571]\n",
      "Epoch [20], [Test set] batch [640/938], loss=[1.05486]\n",
      "Epoch [20], [Test set] batch [704/938], loss=[1.00064]\n",
      "Epoch [20], [Test set] batch [768/938], loss=[0.97259]\n",
      "Epoch [20], [Test set] batch [832/938], loss=[0.99522]\n",
      "Epoch [20], [Test set] batch [896/938], loss=[0.65274]\n",
      "Accuracy of Test set set: [0.7533166666666666]\n",
      "Epoch [21], Batch [64/938], Train Loss: [0.78186]\n",
      "Epoch [21], Batch [128/938], Train Loss: [0.70632]\n",
      "Epoch [21], Batch [192/938], Train Loss: [0.67760]\n",
      "Epoch [21], Batch [256/938], Train Loss: [0.80590]\n",
      "Epoch [21], Batch [320/938], Train Loss: [0.61459]\n",
      "Epoch [21], Batch [384/938], Train Loss: [0.73483]\n",
      "Epoch [21], Batch [448/938], Train Loss: [0.71672]\n",
      "Epoch [21], Batch [512/938], Train Loss: [0.91327]\n",
      "Epoch [21], Batch [576/938], Train Loss: [0.65849]\n",
      "Epoch [21], Batch [640/938], Train Loss: [0.71873]\n",
      "Epoch [21], Batch [704/938], Train Loss: [0.76852]\n",
      "Epoch [21], Batch [768/938], Train Loss: [0.66086]\n",
      "Epoch [21], Batch [832/938], Train Loss: [0.91880]\n",
      "Epoch [21], Batch [896/938], Train Loss: [0.73214]\n",
      "Accuracy of train set: 0.7456333333333334\n",
      "Epoch [21], [Test set] batch [64/938], loss=[0.61808]\n",
      "Epoch [21], [Test set] batch [128/938], loss=[0.77710]\n",
      "Epoch [21], [Test set] batch [192/938], loss=[0.65185]\n",
      "Epoch [21], [Test set] batch [256/938], loss=[0.96530]\n",
      "Epoch [21], [Test set] batch [320/938], loss=[0.81603]\n",
      "Epoch [21], [Test set] batch [384/938], loss=[0.89799]\n",
      "Epoch [21], [Test set] batch [448/938], loss=[0.68304]\n",
      "Epoch [21], [Test set] batch [512/938], loss=[0.93300]\n",
      "Epoch [21], [Test set] batch [576/938], loss=[0.74233]\n",
      "Epoch [21], [Test set] batch [640/938], loss=[0.74453]\n",
      "Epoch [21], [Test set] batch [704/938], loss=[0.73429]\n",
      "Epoch [21], [Test set] batch [768/938], loss=[0.84438]\n",
      "Epoch [21], [Test set] batch [832/938], loss=[0.93367]\n",
      "Epoch [21], [Test set] batch [896/938], loss=[0.99853]\n",
      "Accuracy of Test set set: [0.7445333333333334]\n",
      "Epoch [22], Batch [64/938], Train Loss: [0.94919]\n",
      "Epoch [22], Batch [128/938], Train Loss: [0.96738]\n",
      "Epoch [22], Batch [192/938], Train Loss: [0.88662]\n",
      "Epoch [22], Batch [256/938], Train Loss: [0.83114]\n",
      "Epoch [22], Batch [320/938], Train Loss: [0.91783]\n",
      "Epoch [22], Batch [384/938], Train Loss: [0.84581]\n",
      "Epoch [22], Batch [448/938], Train Loss: [0.84025]\n",
      "Epoch [22], Batch [512/938], Train Loss: [0.80663]\n",
      "Epoch [22], Batch [576/938], Train Loss: [0.83170]\n",
      "Epoch [22], Batch [640/938], Train Loss: [0.54291]\n",
      "Epoch [22], Batch [704/938], Train Loss: [0.91431]\n",
      "Epoch [22], Batch [768/938], Train Loss: [0.73213]\n",
      "Epoch [22], Batch [832/938], Train Loss: [0.85386]\n",
      "Epoch [22], Batch [896/938], Train Loss: [0.75851]\n",
      "Accuracy of train set: 0.7489166666666667\n",
      "Epoch [22], [Test set] batch [64/938], loss=[0.60787]\n",
      "Epoch [22], [Test set] batch [128/938], loss=[0.82258]\n",
      "Epoch [22], [Test set] batch [192/938], loss=[0.85333]\n",
      "Epoch [22], [Test set] batch [256/938], loss=[0.85497]\n",
      "Epoch [22], [Test set] batch [320/938], loss=[0.71980]\n",
      "Epoch [22], [Test set] batch [384/938], loss=[0.79181]\n",
      "Epoch [22], [Test set] batch [448/938], loss=[0.94816]\n",
      "Epoch [22], [Test set] batch [512/938], loss=[0.97477]\n",
      "Epoch [22], [Test set] batch [576/938], loss=[0.84453]\n",
      "Epoch [22], [Test set] batch [640/938], loss=[0.94814]\n",
      "Epoch [22], [Test set] batch [704/938], loss=[0.97110]\n",
      "Epoch [22], [Test set] batch [768/938], loss=[0.84338]\n",
      "Epoch [22], [Test set] batch [832/938], loss=[0.90051]\n",
      "Epoch [22], [Test set] batch [896/938], loss=[1.04625]\n",
      "Accuracy of Test set set: [0.7537666666666667]\n",
      "Epoch [23], Batch [64/938], Train Loss: [0.94194]\n",
      "Epoch [23], Batch [128/938], Train Loss: [0.85706]\n",
      "Epoch [23], Batch [192/938], Train Loss: [0.97698]\n",
      "Epoch [23], Batch [256/938], Train Loss: [1.01346]\n",
      "Epoch [23], Batch [320/938], Train Loss: [0.92736]\n",
      "Epoch [23], Batch [384/938], Train Loss: [0.87177]\n",
      "Epoch [23], Batch [448/938], Train Loss: [0.85034]\n",
      "Epoch [23], Batch [512/938], Train Loss: [0.87162]\n",
      "Epoch [23], Batch [576/938], Train Loss: [0.79340]\n",
      "Epoch [23], Batch [640/938], Train Loss: [0.75894]\n",
      "Epoch [23], Batch [704/938], Train Loss: [0.88724]\n",
      "Epoch [23], Batch [768/938], Train Loss: [0.70180]\n",
      "Epoch [23], Batch [832/938], Train Loss: [1.11127]\n",
      "Epoch [23], Batch [896/938], Train Loss: [0.51887]\n",
      "Accuracy of train set: 0.7528833333333333\n",
      "Epoch [23], [Test set] batch [64/938], loss=[0.83567]\n",
      "Epoch [23], [Test set] batch [128/938], loss=[0.86340]\n",
      "Epoch [23], [Test set] batch [192/938], loss=[0.59696]\n",
      "Epoch [23], [Test set] batch [256/938], loss=[0.92827]\n",
      "Epoch [23], [Test set] batch [320/938], loss=[0.87263]\n",
      "Epoch [23], [Test set] batch [384/938], loss=[0.99526]\n",
      "Epoch [23], [Test set] batch [448/938], loss=[0.85937]\n",
      "Epoch [23], [Test set] batch [512/938], loss=[0.96762]\n",
      "Epoch [23], [Test set] batch [576/938], loss=[0.59858]\n",
      "Epoch [23], [Test set] batch [640/938], loss=[1.10879]\n",
      "Epoch [23], [Test set] batch [704/938], loss=[0.62499]\n",
      "Epoch [23], [Test set] batch [768/938], loss=[0.77608]\n",
      "Epoch [23], [Test set] batch [832/938], loss=[1.16939]\n",
      "Epoch [23], [Test set] batch [896/938], loss=[0.92203]\n",
      "Accuracy of Test set set: [0.73285]\n",
      "Epoch [24], Batch [64/938], Train Loss: [0.85346]\n",
      "Epoch [24], Batch [128/938], Train Loss: [0.87479]\n",
      "Epoch [24], Batch [192/938], Train Loss: [0.87594]\n",
      "Epoch [24], Batch [256/938], Train Loss: [1.00950]\n",
      "Epoch [24], Batch [320/938], Train Loss: [0.83965]\n",
      "Epoch [24], Batch [384/938], Train Loss: [0.96183]\n",
      "Epoch [24], Batch [448/938], Train Loss: [0.74926]\n",
      "Epoch [24], Batch [512/938], Train Loss: [0.86718]\n",
      "Epoch [24], Batch [576/938], Train Loss: [0.97734]\n",
      "Epoch [24], Batch [640/938], Train Loss: [0.63635]\n",
      "Epoch [24], Batch [704/938], Train Loss: [0.81254]\n",
      "Epoch [24], Batch [768/938], Train Loss: [0.65417]\n",
      "Epoch [24], Batch [832/938], Train Loss: [0.85226]\n",
      "Epoch [24], Batch [896/938], Train Loss: [0.76168]\n",
      "Accuracy of train set: 0.7551833333333333\n",
      "Epoch [24], [Test set] batch [64/938], loss=[0.86188]\n",
      "Epoch [24], [Test set] batch [128/938], loss=[0.76655]\n",
      "Epoch [24], [Test set] batch [192/938], loss=[0.76763]\n",
      "Epoch [24], [Test set] batch [256/938], loss=[0.73430]\n",
      "Epoch [24], [Test set] batch [320/938], loss=[0.82491]\n",
      "Epoch [24], [Test set] batch [384/938], loss=[0.62508]\n",
      "Epoch [24], [Test set] batch [448/938], loss=[0.61995]\n",
      "Epoch [24], [Test set] batch [512/938], loss=[0.58822]\n",
      "Epoch [24], [Test set] batch [576/938], loss=[0.72872]\n",
      "Epoch [24], [Test set] batch [640/938], loss=[0.84605]\n",
      "Epoch [24], [Test set] batch [704/938], loss=[0.79793]\n",
      "Epoch [24], [Test set] batch [768/938], loss=[0.87019]\n",
      "Epoch [24], [Test set] batch [832/938], loss=[1.00410]\n",
      "Epoch [24], [Test set] batch [896/938], loss=[0.77868]\n",
      "Accuracy of Test set set: [0.7562333333333333]\n"
     ]
    },
    {
     "data": {
      "text/plain": "<Figure size 640x480 with 1 Axes>",
      "image/png": "[encoded data removed]"
     },
     "metadata": {},
     "output_type": "display_data"
    },
    {
     "data": {
      "text/plain": "<Figure size 640x480 with 1 Axes>",
      "image/png": "[encoded data removed]"
     },
     "metadata": {},
     "output_type": "display_data"
    }
   ],
   "source": [
    "train_losses , train_accuracies ,test_losses ,test_accuracies=train_model([train_loader, test_loader], num_epochs=25, learning_rate=0.005)"
   ]
  },
  {
   "cell_type": "code",
   "execution_count": 17,
   "id": "ceb5783f",
   "metadata": {
    "pycharm": {
     "name": "#%%\n"
    }
   },
   "outputs": [
    {
     "name": "stdout",
     "output_type": "stream",
     "text": [
      "Final test accuracy: 0.7562333333333333\n"
     ]
    }
   ],
   "source": [
    "print(f'Final test accuracy: {test_accuracies[-1]}')"
   ]
  },
  {
   "cell_type": "markdown",
   "id": "a5e128ed",
   "metadata": {
    "pycharm": {
     "name": "#%% md\n"
    }
   },
   "source": [
    "## Visualization of the labels and predictions\n",
    "\n",
    "In this section, you should visual one image from each class and show both the actual label and the predicted label for that image."
   ]
  },
  {
   "cell_type": "code",
   "execution_count": 18,
   "id": "6c0b79fd",
   "metadata": {
    "pycharm": {
     "name": "#%%\n"
    }
   },
   "outputs": [],
   "source": [
    "## FILL HERE\n",
    "class_images = {i: None for i in range(10)}\n",
    "with torch.no_grad():\n",
    "    for data in test_loader:\n",
    "        images, labels = data\n",
    "        outputs = model(images,parameters)\n",
    "        _, predicted = torch.max(outputs, 1)\n",
    "        if class_images[labels[0].item()] is None:\n",
    "            class_images[labels[0].item()] = (images[0], labels[0], predicted[0])\n"
   ]
  },
  {
   "cell_type": "code",
   "execution_count": 19,
   "outputs": [
    {
     "data": {
      "text/plain": "<Figure size 1500x1000 with 10 Axes>",
      "image/png": "[encoded data removed]"
     },
     "metadata": {},
     "output_type": "display_data"
    }
   ],
   "source": [
    "classes = test_set.classes\n",
    "fig, axs = plt.subplots(5, 2, figsize=(15, 10))\n",
    "for i in range(10):\n",
    "    row = i // 2\n",
    "    col = i % 2\n",
    "    image, actual_label, predicted_label = class_images[i]\n",
    "    axs[row, col].imshow(image.permute(1, 2, 0) * 0.5 + 0.5)\n",
    "    axs[row, col].set_title('Actual: {} // Predicted: {}'.format(classes[actual_label.item()], classes[predicted_label.item()]))\n",
    "    axs[row, col].axis('off')\n",
    "plt.show()"
   ],
   "metadata": {
    "collapsed": false,
    "pycharm": {
     "name": "#%%\n"
    }
   }
  }
 ],
 "metadata": {
  "kernelspec": {
   "display_name": "Python 3",
   "language": "python",
   "name": "python3"
  },
  "language_info": {
   "codemirror_mode": {
    "name": "ipython",
    "version": 3
   },
   "file_extension": ".py",
   "mimetype": "text/x-python",
   "name": "python",
   "nbconvert_exporter": "python",
   "pygments_lexer": "ipython3",
   "version": "3.8.3"
  }
 },
 "nbformat": 4,
 "nbformat_minor": 5
}