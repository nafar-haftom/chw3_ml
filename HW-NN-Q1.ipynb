{
 "cells": [
  {
   "cell_type": "markdown",
   "id": "1b46fe41",
   "metadata": {
    "pycharm": {
     "name": "#%% md\n"
    }
   },
   "source": [
    "<div align=center>\n",
    "\n",
    "<font size=5>\n",
    "    In the Name of God\n",
    "<font/>\n",
    "<br/>\n",
    "<br/>\n",
    "<font>\n",
    "    Sharif University of Technology - Departmenet of Electrical Engineering\n",
    "</font>\n",
    "<br/>\n",
    "<font>\n",
    "    Introducing with Machine Learing - Dr. S. Amini\n",
    "</font>\n",
    "<br/>\n",
    "<br/>\n",
    "Spring 2023\n",
    "\n",
    "</div>\n",
    "\n",
    "<hr/>\n",
    "<div align=center>\n",
    "<font size=6>\n",
    "    Neural Networks Practical Assignment\n",
    "    \n",
    "    Question 1\n",
    "</font>\n",
    "<br/>\t\t\n",
    "<font size=4>\n",
    "<br/>\n",
    "</div>"
   ]
  },
  {
   "cell_type": "markdown",
   "id": "24a0fc13",
   "metadata": {
    "id": "a6c2fd6d",
    "pycharm": {
     "name": "#%% md\n"
    }
   },
   "source": [
    "# Personal Data"
   ]
  },
  {
   "cell_type": "code",
   "execution_count": 3,
   "id": "44babb65",
   "metadata": {
    "id": "4e90a030",
    "pycharm": {
     "name": "#%%\n"
    }
   },
   "outputs": [],
   "source": [
    "# Set your student number\n",
    "student_number = 9910693\n",
    "Name = 'Mohammad'\n",
    "Last_Name = 'Ghafourian AghaHasanPour'"
   ]
  },
  {
   "cell_type": "markdown",
   "id": "ca4a337a",
   "metadata": {
    "id": "339da203",
    "pycharm": {
     "name": "#%% md\n"
    }
   },
   "source": [
    "# Rules\n",
    "- You are not allowed to add or remove cells. You **must use the provided space to write your code**. If you don't follow this rule, **your Practical Assignment won't be graded**.  \n",
    "\n",
    "- Collaboration and using the internet is allowed, but your code **must be written by yourself**. **Copying code** from each other or from available resources will result in a **zero score for the assignment**.\n",
    "\n",
    "- You are not allowed to use `torch.nn`, `torch.optim` and any activation function and loss function implemented in torch. "
   ]
  },
  {
   "cell_type": "code",
   "execution_count": 3,
   "id": "12b76789",
   "metadata": {
    "id": "881f2e4c",
    "pycharm": {
     "name": "#%%\n"
    }
   },
   "outputs": [
    {
     "name": "stdout",
     "output_type": "stream",
     "text": [
      "Requirement already satisfied: numpy in c:\\users\\admin\\appdata\\local\\programs\\python\\python39\\lib\\site-packages (1.22.4)\n"
     ]
    },
    {
     "name": "stderr",
     "output_type": "stream",
     "text": [
      "\n",
      "[notice] A new release of pip is available: 23.0 -> 23.1.2\n",
      "[notice] To update, run: python.exe -m pip install --upgrade pip\n"
     ]
    },
    {
     "name": "stdout",
     "output_type": "stream",
     "text": [
      "Requirement already satisfied: matplotlib in c:\\users\\admin\\appdata\\local\\programs\\python\\python39\\lib\\site-packages (3.5.2)\n",
      "Requirement already satisfied: python-dateutil>=2.7 in c:\\users\\admin\\appdata\\local\\programs\\python\\python39\\lib\\site-packages (from matplotlib) (2.8.2)\n",
      "Requirement already satisfied: numpy>=1.17 in c:\\users\\admin\\appdata\\local\\programs\\python\\python39\\lib\\site-packages (from matplotlib) (1.22.4)\n",
      "Requirement already satisfied: pyparsing>=2.2.1 in c:\\users\\admin\\appdata\\local\\programs\\python\\python39\\lib\\site-packages (from matplotlib) (3.0.9)\n",
      "Requirement already satisfied: pillow>=6.2.0 in c:\\users\\admin\\appdata\\local\\programs\\python\\python39\\lib\\site-packages (from matplotlib) (9.5.0)\n",
      "Requirement already satisfied: packaging>=20.0 in c:\\users\\admin\\appdata\\local\\programs\\python\\python39\\lib\\site-packages (from matplotlib) (21.3)\n",
      "Requirement already satisfied: fonttools>=4.22.0 in c:\\users\\admin\\appdata\\local\\programs\\python\\python39\\lib\\site-packages (from matplotlib) (4.33.3)\n",
      "Requirement already satisfied: kiwisolver>=1.0.1 in c:\\users\\admin\\appdata\\local\\programs\\python\\python39\\lib\\site-packages (from matplotlib) (1.4.2)\n",
      "Requirement already satisfied: cycler>=0.10 in c:\\users\\admin\\appdata\\local\\programs\\python\\python39\\lib\\site-packages (from matplotlib) (0.11.0)\n",
      "Requirement already satisfied: six>=1.5 in c:\\users\\admin\\appdata\\local\\programs\\python\\python39\\lib\\site-packages (from python-dateutil>=2.7->matplotlib) (1.16.0)\n"
     ]
    },
    {
     "name": "stderr",
     "output_type": "stream",
     "text": [
      "\n",
      "[notice] A new release of pip is available: 23.0 -> 23.1.2\n",
      "[notice] To update, run: python.exe -m pip install --upgrade pip\n"
     ]
    },
    {
     "name": "stdout",
     "output_type": "stream",
     "text": [
      "Requirement already satisfied: torchvision in c:\\users\\admin\\appdata\\local\\programs\\python\\python39\\lib\\site-packages (0.15.2)\n",
      "Requirement already satisfied: requests in c:\\users\\admin\\appdata\\local\\programs\\python\\python39\\lib\\site-packages (from torchvision) (2.28.2)\n",
      "Requirement already satisfied: torch==2.0.1 in c:\\users\\admin\\appdata\\local\\programs\\python\\python39\\lib\\site-packages (from torchvision) (2.0.1)\n",
      "Requirement already satisfied: numpy in c:\\users\\admin\\appdata\\local\\programs\\python\\python39\\lib\\site-packages (from torchvision) (1.22.4)\n",
      "Requirement already satisfied: pillow!=8.3.*,>=5.3.0 in c:\\users\\admin\\appdata\\local\\programs\\python\\python39\\lib\\site-packages (from torchvision) (9.5.0)\n",
      "Requirement already satisfied: jinja2 in c:\\users\\admin\\appdata\\local\\programs\\python\\python39\\lib\\site-packages (from torch==2.0.1->torchvision) (3.1.2)\n",
      "Requirement already satisfied: networkx in c:\\users\\admin\\appdata\\local\\programs\\python\\python39\\lib\\site-packages (from torch==2.0.1->torchvision) (3.1)\n",
      "Requirement already satisfied: sympy in c:\\users\\admin\\appdata\\local\\programs\\python\\python39\\lib\\site-packages (from torch==2.0.1->torchvision) (1.12)\n",
      "Requirement already satisfied: typing-extensions in c:\\users\\admin\\appdata\\local\\programs\\python\\python39\\lib\\site-packages (from torch==2.0.1->torchvision) (4.5.0)\n",
      "Requirement already satisfied: filelock in c:\\users\\admin\\appdata\\local\\programs\\python\\python39\\lib\\site-packages (from torch==2.0.1->torchvision) (3.12.0)\n",
      "Requirement already satisfied: idna<4,>=2.5 in c:\\users\\admin\\appdata\\local\\programs\\python\\python39\\lib\\site-packages (from requests->torchvision) (3.2)\n",
      "Requirement already satisfied: urllib3<1.27,>=1.21.1 in c:\\users\\admin\\appdata\\local\\programs\\python\\python39\\lib\\site-packages (from requests->torchvision) (1.26.6)\n",
      "Requirement already satisfied: charset-normalizer<4,>=2 in c:\\users\\admin\\appdata\\local\\programs\\python\\python39\\lib\\site-packages (from requests->torchvision) (2.0.4)\n",
      "Requirement already satisfied: certifi>=2017.4.17 in c:\\users\\admin\\appdata\\local\\programs\\python\\python39\\lib\\site-packages (from requests->torchvision) (2021.5.30)\n",
      "Requirement already satisfied: MarkupSafe>=2.0 in c:\\users\\admin\\appdata\\local\\programs\\python\\python39\\lib\\site-packages (from jinja2->torch==2.0.1->torchvision) (2.1.1)\n",
      "Requirement already satisfied: mpmath>=0.19 in c:\\users\\admin\\appdata\\local\\programs\\python\\python39\\lib\\site-packages (from sympy->torch==2.0.1->torchvision) (1.3.0)\n"
     ]
    },
    {
     "name": "stderr",
     "output_type": "stream",
     "text": [
      "\n",
      "[notice] A new release of pip is available: 23.0 -> 23.1.2\n",
      "[notice] To update, run: python.exe -m pip install --upgrade pip\n"
     ]
    },
    {
     "name": "stdout",
     "output_type": "stream",
     "text": [
      "Requirement already satisfied: torch in c:\\users\\admin\\appdata\\local\\programs\\python\\python39\\lib\\site-packages (2.0.1)\n",
      "Requirement already satisfied: typing-extensions in c:\\users\\admin\\appdata\\local\\programs\\python\\python39\\lib\\site-packages (from torch) (4.5.0)\n",
      "Requirement already satisfied: filelock in c:\\users\\admin\\appdata\\local\\programs\\python\\python39\\lib\\site-packages (from torch) (3.12.0)\n",
      "Requirement already satisfied: sympy in c:\\users\\admin\\appdata\\local\\programs\\python\\python39\\lib\\site-packages (from torch) (1.12)\n",
      "Requirement already satisfied: jinja2 in c:\\users\\admin\\appdata\\local\\programs\\python\\python39\\lib\\site-packages (from torch) (3.1.2)\n",
      "Requirement already satisfied: networkx in c:\\users\\admin\\appdata\\local\\programs\\python\\python39\\lib\\site-packages (from torch) (3.1)\n",
      "Requirement already satisfied: MarkupSafe>=2.0 in c:\\users\\admin\\appdata\\local\\programs\\python\\python39\\lib\\site-packages (from jinja2->torch) (2.1.1)\n",
      "Requirement already satisfied: mpmath>=0.19 in c:\\users\\admin\\appdata\\local\\programs\\python\\python39\\lib\\site-packages (from sympy->torch) (1.3.0)\n"
     ]
    },
    {
     "name": "stderr",
     "output_type": "stream",
     "text": [
      "\n",
      "[notice] A new release of pip is available: 23.0 -> 23.1.2\n",
      "[notice] To update, run: python.exe -m pip install --upgrade pip\n"
     ]
    }
   ],
   "source": [
    "!pip install numpy\n",
    "!pip install matplotlib\n",
    "!pip install torchvision\n",
    "!pip install torch"
   ]
  },
  {
   "cell_type": "markdown",
   "id": "886188c7",
   "metadata": {
    "pycharm": {
     "name": "#%% md\n"
    }
   },
   "source": [
    "## Importing Libraries"
   ]
  },
  {
   "cell_type": "code",
   "execution_count": 4,
   "id": "55a0adcc",
   "metadata": {
    "pycharm": {
     "name": "#%%\n"
    }
   },
   "outputs": [],
   "source": [
    "import torch\n",
    "from torchvision.datasets import FashionMNIST\n",
    "from torchvision import transforms\n",
    "from torch.utils.data import DataLoader\n",
    "\n",
    "import numpy as np\n",
    "from matplotlib import pyplot as plt\n",
    "from typing import Dict"
   ]
  },
  {
   "cell_type": "markdown",
   "id": "18510868",
   "metadata": {
    "pycharm": {
     "name": "#%% md\n"
    }
   },
   "source": [
    "## Datasets and Dataloaders\n",
    "\n",
    "Here, we download and load the train and test `FashionMNIST` dataset with the desired transforms. Then, we define the dataloaders for `train` and `test`."
   ]
  },
  {
   "cell_type": "code",
   "execution_count": 78,
   "id": "dc8759e2",
   "metadata": {
    "pycharm": {
     "name": "#%%\n"
    }
   },
   "outputs": [],
   "source": [
    "train_set = FashionMNIST(root='.', train=True, download=True, transform=transforms.ToTensor())\n",
    "test_set = FashionMNIST(root='.', train=False, download=True, transform=transforms.ToTensor())"
   ]
  },
  {
   "cell_type": "code",
   "execution_count": 79,
   "id": "8f6763e6",
   "metadata": {
    "pycharm": {
     "name": "#%%\n"
    }
   },
   "outputs": [],
   "source": [
    "image_shape = train_set[0][0].shape\n",
    "input_dim = np.prod(image_shape).item()\n",
    "num_classes = len(FashionMNIST.classes)"
   ]
  },
  {
   "cell_type": "code",
   "execution_count": 80,
   "id": "c695ff60",
   "metadata": {
    "pycharm": {
     "name": "#%%\n"
    }
   },
   "outputs": [],
   "source": [
    "train_loader = DataLoader(train_set, 64, shuffle=True)\n",
    "test_loader = DataLoader(test_set, 64, shuffle=True)"
   ]
  },
  {
   "cell_type": "markdown",
   "id": "f9dac6c2",
   "metadata": {
    "pycharm": {
     "name": "#%% md\n"
    }
   },
   "source": [
    "## Visualization\n",
    "\n",
    "Visualize 1 random image from each class\n",
    "\n",
    "- **Hint**:  You can use `plt.subplots` for visualization"
   ]
  },
  {
   "cell_type": "code",
   "execution_count": 81,
   "id": "e3d6b0c1",
   "metadata": {
    "pycharm": {
     "name": "#%%\n"
    }
   },
   "outputs": [
    {
     "data": {
      "text/plain": "<Figure size 2000x500 with 10 Axes>",
      "image/png": "[encoded data removed]"
     },
     "metadata": {},
     "output_type": "display_data"
    }
   ],
   "source": [
    "## FILL HERE\n",
    "fig, axs = plt.subplots(1, num_classes, figsize=(20, 5))\n",
    "\n",
    "for i, ax in enumerate(axs):\n",
    "    # Get a random image from the i-th class\n",
    "    idx = (train_set.targets == i).nonzero(as_tuple=True)[0][0]\n",
    "    image, label = train_set[idx]\n",
    "\n",
    "    # Plot the image and label as the title\n",
    "    ax.imshow(image.squeeze(), cmap='gray')\n",
    "    ax.set_title(train_set.classes[label])\n",
    "\n",
    "plt.show()"
   ]
  },
  {
   "cell_type": "markdown",
   "id": "a94c5aba",
   "metadata": {
    "pycharm": {
     "name": "#%% md\n"
    }
   },
   "source": [
    "## Initializing model's parameters\n",
    "\n",
    "In this part, we create the model and initialize its parameters and store the values of these parameters in the variable `parameters` which is a dictionary including the weigths and biases of each layer."
   ]
  },
  {
   "cell_type": "code",
   "execution_count": 64,
   "id": "e6d40952",
   "metadata": {
    "pycharm": {
     "name": "#%%\n"
    }
   },
   "outputs": [],
   "source": [
    "def add_linear_layer(parameters: dict, shape, device, i=None):\n",
    "    \"\"\"\n",
    "    This function adds parameters of a linear unit of shape `shape` to the `parameters` dictionary.\n",
    "    \"\"\"\n",
    "    n_in, n_out = shape\n",
    "    with torch.no_grad():\n",
    "        w = torch.zeros(*shape, device=device)\n",
    "        # aiming initialization for ReLU activations:\n",
    "        bound = 1 / np.sqrt(n_in).item()\n",
    "        w.uniform_(-bound, bound)\n",
    "        b = torch.zeros(n_out, device=device)  # no need to (1, n_out). it will broadcast itself.\n",
    "    w.requires_grad = True\n",
    "    b.requires_grad = True\n",
    "    # `i` is used to give numbers to parameter names\n",
    "    parameters.update({f'w{i}': w, f'b{i}': b})"
   ]
  },
  {
   "cell_type": "markdown",
   "id": "ce914706",
   "metadata": {
    "pycharm": {
     "name": "#%% md\n"
    }
   },
   "source": [
    "Now we define our neural network with the given layers and add the weights and biases to the dictionary `parameters`. **You are allowed to modify the values of the layers**."
   ]
  },
  {
   "cell_type": "code",
   "execution_count": 82,
   "id": "8f3867d7",
   "metadata": {
    "pycharm": {
     "name": "#%%\n"
    }
   },
   "outputs": [
    {
     "name": "stdout",
     "output_type": "stream",
     "text": [
      "device is cpu\n"
     ]
    },
    {
     "data": {
      "text/plain": "dict_keys(['w0', 'b0', 'w1', 'b1', 'w2', 'b2', 'w3', 'b3', 'w4', 'b4'])"
     },
     "execution_count": 82,
     "metadata": {},
     "output_type": "execute_result"
    }
   ],
   "source": [
    "layers = [\n",
    "    (input_dim, 512),\n",
    "    (512, 256),\n",
    "    (256, 128),\n",
    "    (128, 64),\n",
    "    (64, num_classes)\n",
    "]\n",
    "num_layers = len(layers)\n",
    "parameters = {}\n",
    "\n",
    "# setting the device\n",
    "device = torch.device(\"cuda\" if torch.cuda.is_available() else \"cpu\")\n",
    "print(\"device is\" , device)\n",
    "# adding the parameters to the dictionary\n",
    "for i, shape in enumerate(layers):\n",
    "    add_linear_layer(parameters, shape, device, i)\n",
    "\n",
    "parameters.keys()"
   ]
  },
  {
   "cell_type": "markdown",
   "id": "8bfd2c8e",
   "metadata": {
    "pycharm": {
     "name": "#%% md\n"
    }
   },
   "source": [
    "## Defining the required functions\n",
    "\n",
    "In this section, we should define the required functions. For each of these functions, the inputs and the desired outputs are given and you should write all or part of the function. **You are not allowed to use the activation functions and the loss functions implemented in torch**."
   ]
  },
  {
   "cell_type": "markdown",
   "id": "f3b413d8",
   "metadata": {
    "pycharm": {
     "name": "#%% md\n"
    }
   },
   "source": [
    "Computing affine and relu outputs:"
   ]
  },
  {
   "cell_type": "code",
   "execution_count": 93,
   "id": "bebeeb0e",
   "metadata": {
    "pycharm": {
     "name": "#%%\n"
    }
   },
   "outputs": [],
   "source": [
    "def affine_forward(x, w, b):\n",
    "    ## FILL HERE\n",
    "    out = torch.mm(x, w) + b\n",
    "    return out\n",
    "\n",
    "def relu(x):\n",
    "    ## FILL HERE\n",
    "    out = torch.maximum(x, torch.zeros_like(x))\n",
    "    return out"
   ]
  },
  {
   "cell_type": "markdown",
   "id": "5d9baa5e",
   "metadata": {
    "pycharm": {
     "name": "#%% md\n"
    }
   },
   "source": [
    "Function `model` returns output of the whole model for the input `x` using the parameters:"
   ]
  },
  {
   "cell_type": "code",
   "execution_count": 92,
   "id": "d2562962",
   "metadata": {
    "pycharm": {
     "name": "#%%\n"
    }
   },
   "outputs": [],
   "source": [
    "def model(x: torch.Tensor, parameters, num_layers=num_layers):\n",
    "    # number of batches\n",
    "    B = x.shape[0]\n",
    "    x = x.view(B, -1)\n",
    "\n",
    "    ## FILL HERE\n",
    "    # Perform forward propagation through the layers\n",
    "    for i in range(num_layers):\n",
    "        # Get the weight and bias tensors for the i-th layer\n",
    "        w = parameters[f'w{i}']\n",
    "        b = parameters[f'b{i}']\n",
    "\n",
    "        # Compute the output of the i-th layer using affine and ReLU operations\n",
    "        out = affine_forward(x, w, b)\n",
    "        out = relu(out)\n",
    "        x = out\n",
    "\n",
    "    output = out\n",
    "    return output"
   ]
  },
  {
   "cell_type": "markdown",
   "id": "d17a9b4c",
   "metadata": {
    "pycharm": {
     "name": "#%% md\n"
    }
   },
   "source": [
    "Implementing cross entropy loss:"
   ]
  },
  {
   "cell_type": "code",
   "execution_count": 68,
   "id": "6959621c",
   "metadata": {
    "pycharm": {
     "name": "#%%\n"
    }
   },
   "outputs": [],
   "source": [
    "def cross_entropy_loss(scores, y):\n",
    "    n = len(y)\n",
    "    ## FILL HERE\n",
    "    exp_scores = torch.exp(scores)\n",
    "    probs = exp_scores / torch.sum(exp_scores, axis=1, keepdims=True)# Softmax\n",
    "    log_probs = -torch.log(probs[range(n), y])\n",
    "    loss = torch.sum(log_probs) / n # Mean of losses\n",
    "    return loss"
   ]
  },
  {
   "cell_type": "markdown",
   "id": "15a589af",
   "metadata": {
    "pycharm": {
     "name": "#%% md\n"
    }
   },
   "source": [
    "Implementing a function for optimizing parameters and a function to zeroing out their gradients:"
   ]
  },
  {
   "cell_type": "code",
   "execution_count": 69,
   "id": "3121c147",
   "metadata": {
    "pycharm": {
     "name": "#%%\n"
    }
   },
   "outputs": [],
   "source": [
    "def sgd_optimizer(parameters: Dict[str, torch.Tensor], learning_rate=0.001):\n",
    "    '''This function gets the parameters and a learning rate. Then updates the parameters using their\n",
    "    gradient (parameter.grad). Finally, you should zero the gradients of the parameters after updating\n",
    "    the parameter value.'''\n",
    "    ## FILL HERE\n",
    "    for param_name, param in parameters.items():\n",
    "        if param.grad is not None:\n",
    "            with torch.no_grad():\n",
    "                param -= learning_rate * param.grad\n",
    "\n",
    "        param.grad = None # Zero out the gradients"
   ]
  },
  {
   "cell_type": "markdown",
   "id": "e17b4cf8",
   "metadata": {
    "pycharm": {
     "name": "#%% md\n"
    }
   },
   "source": [
    "Training functions:"
   ]
  },
  {
   "cell_type": "code",
   "execution_count": 94,
   "id": "76c0f03b",
   "metadata": {
    "pycharm": {
     "name": "#%%\n"
    }
   },
   "outputs": [],
   "source": [
    "def accuracy(y_pred: np.ndarray, y_true: np.ndarray):\n",
    "    ## FILL HERE\n",
    "    acc = np.mean(y_pred == y_true)\n",
    "    return acc\n",
    "\n",
    "def train(train_loader, learning_rate=0.001, epoch=None):\n",
    "    '''This function implements the training loop for a single epoch. For each batch you should do the following:\n",
    "        1- Calculate the output of the model to the given input batch\n",
    "        2- Calculate the loss based on the model output\n",
    "        3- Update the gradients using loss.backward() method\n",
    "        4- Optimize the model parameters using the sgd_optimizer function defined previously\n",
    "        5- Print the train loss (Show the epoch and batch as well)\n",
    "        '''\n",
    "    train_loss = 0\n",
    "    N_train = len(train_loader.dataset)\n",
    "    \n",
    "    # Creating empty lists Y and Y_pred to store the labels and predictions of each batch\n",
    "    # for calculating the accuracy later\n",
    "    Y = []\n",
    "    Y_pred = []\n",
    "    \n",
    "    \n",
    "    for i, (x, y) in enumerate(train_loader):\n",
    "        x = x.to(device)\n",
    "        y = y.to(device)\n",
    "        p = model(x, parameters)\n",
    "\n",
    "        ## FILL HERE\n",
    "        loss = cross_entropy_loss(p, y)\n",
    "        loss.backward()\n",
    "        sgd_optimizer(parameters, learning_rate)\n",
    "        train_loss += loss.item() * x.size(0)\n",
    "\n",
    "        y_pred = p.argmax(dim=-1)\n",
    "        Y.append(y.cpu().numpy())\n",
    "        Y_pred.append(y_pred.cpu().numpy())\n",
    "        if (i + 1) % 200 == 0:\n",
    "            print(f'Epoch [{epoch}], Batch [{i+1}/{len(train_loader)}], Train Loss: [{loss.item():.5f}]')\n",
    "    train_loss /= N_train\n",
    "    Y = np.concatenate(Y)\n",
    "    Y_pred = np.concatenate(Y_pred)\n",
    "    acc = accuracy(Y_pred, Y)\n",
    "    print(f'Accuracy of train set: {acc}')\n",
    "    return train_loss, acc\n",
    "\n",
    "\n",
    "def validate(loader, epoch=None, set_name=\"Test set\"):\n",
    "    '''\n",
    "    This function validates the model on the test dataloader. The function goes through each batch and does\n",
    "    the following on each batch:\n",
    "        1- Calculate the model output\n",
    "        2- Calculate the loss using the model output\n",
    "        3- Print the loss for each batch and epoch\n",
    "    \n",
    "    Finally, the function calculates the model accuracy.\n",
    "    '''\n",
    "    total_loss = 0\n",
    "    N = len(loader.dataset)\n",
    "    \n",
    "    # Creating empty lists Y and Y_pred to store the labels and predictions of each batch\n",
    "    # for calculating the accuracy later\n",
    "    Y = []\n",
    "    Y_pred = []\n",
    "    for i, (x, y) in enumerate(train_loader):\n",
    "        x = x.to(device)\n",
    "        y = y.to(device)\n",
    "        p = model(x, parameters)\n",
    "\n",
    "        ## FILL HERE\n",
    "        loss = cross_entropy_loss(p, y)\n",
    "        # Add the batch loss to the total loss\n",
    "        total_loss += loss.item()\n",
    "        # Print the loss for each batch and epoch\n",
    "        if (i + 1) % 200 == 0:\n",
    "            print(f'Epoch [{epoch}], [{set_name}] batch [{i+1}/{len(train_loader)}], loss=[{loss.item():.5f}]')\n",
    "\n",
    "        y_pred = p.argmax(dim=-1)\n",
    "        Y.append(y.cpu().numpy())\n",
    "        Y_pred.append(y_pred.cpu().numpy())\n",
    "    Y = np.concatenate(Y)\n",
    "    Y_pred = np.concatenate(Y_pred)\n",
    "    total_loss /= N\n",
    "    acc = accuracy(Y_pred, Y)\n",
    "    print(f'Accuracy of {set_name} set: [{acc}]')\n",
    "\n",
    "    return total_loss, acc"
   ]
  },
  {
   "cell_type": "code",
   "execution_count": 83,
   "id": "87ebb4b6",
   "metadata": {
    "pycharm": {
     "name": "#%%\n"
    }
   },
   "outputs": [],
   "source": [
    "train_losses = []\n",
    "test_losses = []\n",
    "train_accuracies = []\n",
    "test_accuracies = []"
   ]
  },
  {
   "cell_type": "code",
   "execution_count": 84,
   "id": "28d4eb0b",
   "metadata": {
    "pycharm": {
     "name": "#%%\n"
    }
   },
   "outputs": [],
   "source": [
    "def train_model(dataloaders, num_epochs, learning_rate=0.001, model_name='pytorch_model'):\n",
    "    '''This function trains the model for the number of epochs given and stores, calculates and prints the train\n",
    "    and test losses and accuracies. Finally, it plots the accuracy and loss history for training and test sets'''\n",
    "    train_loader, test_loader = dataloaders\n",
    "    train_losses = []\n",
    "    test_losses = []\n",
    "    train_accuracies = []\n",
    "    test_accuracies = []\n",
    "    for epoch in range(num_epochs):\n",
    "        ## FILL HERE\n",
    "        ## You should calculate the train and test loss and accuracies for each epoch and add them to\n",
    "        train_loss , train_accuracy =train(train_loader,learning_rate,epoch)\n",
    "        test_loss , test_accuracy = validate(test_loader,epoch)\n",
    "        ## the lists `train_losses`, `test_losses`, `train_accuracies` and `test_accuracies`\n",
    "        train_losses.append(train_loss)\n",
    "        train_accuracies.append(train_accuracy)\n",
    "        test_losses.append(test_loss)\n",
    "        test_accuracies.append(test_accuracy)\n",
    "    ## plot the loss history of training and test sets \n",
    "    ## FILL HERE\n",
    "    plt.plot(train_losses, label='Train Loss')\n",
    "    plt.plot(test_losses, label='Test Loss')\n",
    "    plt.legend()\n",
    "    plt.show()\n",
    "\n",
    "    ## plot the accuracy history of training and test sets\n",
    "    ## FILL HERE\n",
    "    plt.plot(train_accuracies, label='Train Accuracy')\n",
    "    plt.plot(test_accuracies, label='Test Accuracy')\n",
    "    plt.legend()\n",
    "    plt.show()\n",
    "    return train_losses , train_accuracies, test_losses ,test_accuracies"
   ]
  },
  {
   "cell_type": "code",
   "execution_count": 85,
   "id": "2ec4bdd2",
   "metadata": {
    "pycharm": {
     "name": "#%%\n"
    }
   },
   "outputs": [
    {
     "name": "stdout",
     "output_type": "stream",
     "text": [
      "Epoch [0], Batch [200/938], Train Loss: [2.29931]\n",
      "Epoch [0], Batch [400/938], Train Loss: [2.29712]\n",
      "Epoch [0], Batch [600/938], Train Loss: [2.29309]\n",
      "Epoch [0], Batch [800/938], Train Loss: [2.29322]\n",
      "Accuracy of train set: 0.28728333333333333\n",
      "Epoch [0], [Test set] batch [200/938], loss=[2.29232]\n",
      "Epoch [0], [Test set] batch [400/938], loss=[2.28839]\n",
      "Epoch [0], [Test set] batch [600/938], loss=[2.29167]\n",
      "Epoch [0], [Test set] batch [800/938], loss=[2.28520]\n",
      "Accuracy of Test set set: [0.3630833333333333]\n",
      "Epoch [1], Batch [200/938], Train Loss: [2.27854]\n",
      "Epoch [1], Batch [400/938], Train Loss: [2.27774]\n",
      "Epoch [1], Batch [600/938], Train Loss: [2.26231]\n",
      "Epoch [1], Batch [800/938], Train Loss: [2.25126]\n",
      "Accuracy of train set: 0.312\n",
      "Epoch [1], [Test set] batch [200/938], loss=[2.21888]\n",
      "Epoch [1], [Test set] batch [400/938], loss=[2.19768]\n",
      "Epoch [1], [Test set] batch [600/938], loss=[2.20492]\n",
      "Epoch [1], [Test set] batch [800/938], loss=[2.21334]\n",
      "Accuracy of Test set set: [0.242]\n",
      "Epoch [2], Batch [200/938], Train Loss: [2.09926]\n",
      "Epoch [2], Batch [400/938], Train Loss: [2.09288]\n",
      "Epoch [2], Batch [600/938], Train Loss: [1.95526]\n",
      "Epoch [2], Batch [800/938], Train Loss: [1.84742]\n",
      "Accuracy of train set: 0.3000333333333333\n",
      "Epoch [2], [Test set] batch [200/938], loss=[1.76122]\n",
      "Epoch [2], [Test set] batch [400/938], loss=[1.88731]\n",
      "Epoch [2], [Test set] batch [600/938], loss=[1.91055]\n",
      "Epoch [2], [Test set] batch [800/938], loss=[1.91951]\n",
      "Accuracy of Test set set: [0.37711666666666666]\n",
      "Epoch [3], Batch [200/938], Train Loss: [1.71012]\n",
      "Epoch [3], Batch [400/938], Train Loss: [1.69620]\n",
      "Epoch [3], Batch [600/938], Train Loss: [1.70296]\n",
      "Epoch [3], Batch [800/938], Train Loss: [1.47259]\n",
      "Accuracy of train set: 0.47931666666666667\n",
      "Epoch [3], [Test set] batch [200/938], loss=[1.71342]\n",
      "Epoch [3], [Test set] batch [400/938], loss=[1.73649]\n",
      "Epoch [3], [Test set] batch [600/938], loss=[1.67094]\n",
      "Epoch [3], [Test set] batch [800/938], loss=[1.43145]\n",
      "Accuracy of Test set set: [0.5174]\n",
      "Epoch [4], Batch [200/938], Train Loss: [1.39796]\n",
      "Epoch [4], Batch [400/938], Train Loss: [1.41656]\n",
      "Epoch [4], Batch [600/938], Train Loss: [1.40390]\n",
      "Epoch [4], Batch [800/938], Train Loss: [1.35440]\n",
      "Accuracy of train set: 0.5288333333333334\n",
      "Epoch [4], [Test set] batch [200/938], loss=[1.34933]\n",
      "Epoch [4], [Test set] batch [400/938], loss=[1.41787]\n",
      "Epoch [4], [Test set] batch [600/938], loss=[1.25421]\n",
      "Epoch [4], [Test set] batch [800/938], loss=[1.22800]\n",
      "Accuracy of Test set set: [0.5374166666666667]\n",
      "Epoch [5], Batch [200/938], Train Loss: [1.39728]\n",
      "Epoch [5], Batch [400/938], Train Loss: [1.46475]\n",
      "Epoch [5], Batch [600/938], Train Loss: [1.48934]\n",
      "Epoch [5], Batch [800/938], Train Loss: [0.98843]\n",
      "Accuracy of train set: 0.5470333333333334\n",
      "Epoch [5], [Test set] batch [200/938], loss=[0.92525]\n",
      "Epoch [5], [Test set] batch [400/938], loss=[1.10395]\n",
      "Epoch [5], [Test set] batch [600/938], loss=[1.11834]\n",
      "Epoch [5], [Test set] batch [800/938], loss=[1.38970]\n",
      "Accuracy of Test set set: [0.5621]\n",
      "Epoch [6], Batch [200/938], Train Loss: [1.21701]\n",
      "Epoch [6], Batch [400/938], Train Loss: [1.16294]\n",
      "Epoch [6], Batch [600/938], Train Loss: [1.02565]\n",
      "Epoch [6], Batch [800/938], Train Loss: [1.07000]\n",
      "Accuracy of train set: 0.5635333333333333\n",
      "Epoch [6], [Test set] batch [200/938], loss=[0.91896]\n",
      "Epoch [6], [Test set] batch [400/938], loss=[1.02263]\n",
      "Epoch [6], [Test set] batch [600/938], loss=[1.21943]\n",
      "Epoch [6], [Test set] batch [800/938], loss=[1.29295]\n",
      "Accuracy of Test set set: [0.5715333333333333]\n",
      "Epoch [7], Batch [200/938], Train Loss: [1.31533]\n",
      "Epoch [7], Batch [400/938], Train Loss: [1.29530]\n",
      "Epoch [7], Batch [600/938], Train Loss: [1.25527]\n",
      "Epoch [7], Batch [800/938], Train Loss: [1.10153]\n",
      "Accuracy of train set: 0.57215\n",
      "Epoch [7], [Test set] batch [200/938], loss=[1.20764]\n",
      "Epoch [7], [Test set] batch [400/938], loss=[1.38017]\n",
      "Epoch [7], [Test set] batch [600/938], loss=[1.28033]\n",
      "Epoch [7], [Test set] batch [800/938], loss=[1.07015]\n",
      "Accuracy of Test set set: [0.57325]\n",
      "Epoch [8], Batch [200/938], Train Loss: [1.55632]\n",
      "Epoch [8], Batch [400/938], Train Loss: [1.06033]\n",
      "Epoch [8], Batch [600/938], Train Loss: [1.29072]\n",
      "Epoch [8], Batch [800/938], Train Loss: [1.20077]\n",
      "Accuracy of train set: 0.57875\n",
      "Epoch [8], [Test set] batch [200/938], loss=[1.16223]\n",
      "Epoch [8], [Test set] batch [400/938], loss=[1.44936]\n",
      "Epoch [8], [Test set] batch [600/938], loss=[1.30628]\n",
      "Epoch [8], [Test set] batch [800/938], loss=[1.36386]\n",
      "Accuracy of Test set set: [0.5821166666666666]\n",
      "Epoch [9], Batch [200/938], Train Loss: [1.05828]\n",
      "Epoch [9], Batch [400/938], Train Loss: [1.01411]\n",
      "Epoch [9], Batch [600/938], Train Loss: [0.93790]\n",
      "Epoch [9], Batch [800/938], Train Loss: [1.07948]\n",
      "Accuracy of train set: 0.5829333333333333\n",
      "Epoch [9], [Test set] batch [200/938], loss=[1.05573]\n",
      "Epoch [9], [Test set] batch [400/938], loss=[1.39899]\n",
      "Epoch [9], [Test set] batch [600/938], loss=[1.22439]\n",
      "Epoch [9], [Test set] batch [800/938], loss=[1.36241]\n",
      "Accuracy of Test set set: [0.5855833333333333]\n",
      "Epoch [10], Batch [200/938], Train Loss: [1.01908]\n",
      "Epoch [10], Batch [400/938], Train Loss: [1.13048]\n",
      "Epoch [10], Batch [600/938], Train Loss: [1.20332]\n",
      "Epoch [10], Batch [800/938], Train Loss: [1.50716]\n",
      "Accuracy of train set: 0.5840833333333333\n",
      "Epoch [10], [Test set] batch [200/938], loss=[0.85362]\n",
      "Epoch [10], [Test set] batch [400/938], loss=[0.92807]\n",
      "Epoch [10], [Test set] batch [600/938], loss=[0.84868]\n",
      "Epoch [10], [Test set] batch [800/938], loss=[1.11910]\n",
      "Accuracy of Test set set: [0.5836833333333333]\n",
      "Epoch [11], Batch [200/938], Train Loss: [1.13497]\n",
      "Epoch [11], Batch [400/938], Train Loss: [1.28443]\n",
      "Epoch [11], Batch [600/938], Train Loss: [1.29658]\n",
      "Epoch [11], Batch [800/938], Train Loss: [1.42518]\n",
      "Accuracy of train set: 0.5866666666666667\n",
      "Epoch [11], [Test set] batch [200/938], loss=[1.00580]\n",
      "Epoch [11], [Test set] batch [400/938], loss=[1.23020]\n",
      "Epoch [11], [Test set] batch [600/938], loss=[1.11642]\n",
      "Epoch [11], [Test set] batch [800/938], loss=[1.13873]\n",
      "Accuracy of Test set set: [0.58145]\n",
      "Epoch [12], Batch [200/938], Train Loss: [1.31883]\n",
      "Epoch [12], Batch [400/938], Train Loss: [1.09743]\n",
      "Epoch [12], Batch [600/938], Train Loss: [1.29832]\n",
      "Epoch [12], Batch [800/938], Train Loss: [0.99929]\n",
      "Accuracy of train set: 0.5885\n",
      "Epoch [12], [Test set] batch [200/938], loss=[0.85316]\n",
      "Epoch [12], [Test set] batch [400/938], loss=[1.41303]\n",
      "Epoch [12], [Test set] batch [600/938], loss=[0.92812]\n",
      "Epoch [12], [Test set] batch [800/938], loss=[0.98100]\n",
      "Accuracy of Test set set: [0.58935]\n",
      "Epoch [13], Batch [200/938], Train Loss: [1.17104]\n",
      "Epoch [13], Batch [400/938], Train Loss: [1.25483]\n",
      "Epoch [13], Batch [600/938], Train Loss: [0.91481]\n",
      "Epoch [13], Batch [800/938], Train Loss: [1.15350]\n",
      "Accuracy of train set: 0.59135\n",
      "Epoch [13], [Test set] batch [200/938], loss=[1.08589]\n",
      "Epoch [13], [Test set] batch [400/938], loss=[1.05792]\n",
      "Epoch [13], [Test set] batch [600/938], loss=[1.00186]\n",
      "Epoch [13], [Test set] batch [800/938], loss=[0.88521]\n",
      "Accuracy of Test set set: [0.5926833333333333]\n",
      "Epoch [14], Batch [200/938], Train Loss: [1.12033]\n",
      "Epoch [14], Batch [400/938], Train Loss: [1.08973]\n",
      "Epoch [14], Batch [600/938], Train Loss: [1.11930]\n",
      "Epoch [14], Batch [800/938], Train Loss: [1.26242]\n",
      "Accuracy of train set: 0.5919833333333333\n",
      "Epoch [14], [Test set] batch [200/938], loss=[1.12323]\n",
      "Epoch [14], [Test set] batch [400/938], loss=[1.16530]\n",
      "Epoch [14], [Test set] batch [600/938], loss=[1.12266]\n",
      "Epoch [14], [Test set] batch [800/938], loss=[1.03975]\n",
      "Accuracy of Test set set: [0.5913666666666667]\n",
      "Epoch [15], Batch [200/938], Train Loss: [1.10438]\n",
      "Epoch [15], Batch [400/938], Train Loss: [0.86070]\n",
      "Epoch [15], Batch [600/938], Train Loss: [0.93639]\n",
      "Epoch [15], Batch [800/938], Train Loss: [1.04166]\n",
      "Accuracy of train set: 0.5957166666666667\n",
      "Epoch [15], [Test set] batch [200/938], loss=[0.89009]\n",
      "Epoch [15], [Test set] batch [400/938], loss=[1.04610]\n",
      "Epoch [15], [Test set] batch [600/938], loss=[1.31387]\n",
      "Epoch [15], [Test set] batch [800/938], loss=[1.14745]\n",
      "Accuracy of Test set set: [0.5903666666666667]\n",
      "Epoch [16], Batch [200/938], Train Loss: [1.24010]\n",
      "Epoch [16], Batch [400/938], Train Loss: [1.09449]\n",
      "Epoch [16], Batch [600/938], Train Loss: [1.18561]\n",
      "Epoch [16], Batch [800/938], Train Loss: [1.00443]\n",
      "Accuracy of train set: 0.597\n",
      "Epoch [16], [Test set] batch [200/938], loss=[0.92953]\n",
      "Epoch [16], [Test set] batch [400/938], loss=[1.17166]\n",
      "Epoch [16], [Test set] batch [600/938], loss=[0.88167]\n",
      "Epoch [16], [Test set] batch [800/938], loss=[1.11416]\n",
      "Accuracy of Test set set: [0.5983333333333334]\n",
      "Epoch [17], Batch [200/938], Train Loss: [0.78880]\n",
      "Epoch [17], Batch [400/938], Train Loss: [1.27668]\n",
      "Epoch [17], Batch [600/938], Train Loss: [1.11720]\n",
      "Epoch [17], Batch [800/938], Train Loss: [1.08272]\n",
      "Accuracy of train set: 0.5990833333333333\n",
      "Epoch [17], [Test set] batch [200/938], loss=[1.18696]\n",
      "Epoch [17], [Test set] batch [400/938], loss=[1.03714]\n",
      "Epoch [17], [Test set] batch [600/938], loss=[0.99507]\n",
      "Epoch [17], [Test set] batch [800/938], loss=[0.80651]\n",
      "Accuracy of Test set set: [0.59865]\n",
      "Epoch [18], Batch [200/938], Train Loss: [1.05438]\n",
      "Epoch [18], Batch [400/938], Train Loss: [1.02344]\n",
      "Epoch [18], Batch [600/938], Train Loss: [1.05909]\n",
      "Epoch [18], Batch [800/938], Train Loss: [1.00774]\n",
      "Accuracy of train set: 0.6004166666666667\n",
      "Epoch [18], [Test set] batch [200/938], loss=[1.07183]\n",
      "Epoch [18], [Test set] batch [400/938], loss=[1.02029]\n",
      "Epoch [18], [Test set] batch [600/938], loss=[1.33099]\n",
      "Epoch [18], [Test set] batch [800/938], loss=[0.93772]\n",
      "Accuracy of Test set set: [0.6012333333333333]\n",
      "Epoch [19], Batch [200/938], Train Loss: [0.96470]\n",
      "Epoch [19], Batch [400/938], Train Loss: [1.17589]\n",
      "Epoch [19], Batch [600/938], Train Loss: [1.00961]\n",
      "Epoch [19], Batch [800/938], Train Loss: [1.18718]\n",
      "Accuracy of train set: 0.6023833333333334\n",
      "Epoch [19], [Test set] batch [200/938], loss=[0.83506]\n",
      "Epoch [19], [Test set] batch [400/938], loss=[0.86460]\n",
      "Epoch [19], [Test set] batch [600/938], loss=[1.01426]\n",
      "Epoch [19], [Test set] batch [800/938], loss=[0.79592]\n",
      "Accuracy of Test set set: [0.6051166666666666]\n",
      "Epoch [20], Batch [200/938], Train Loss: [0.99338]\n",
      "Epoch [20], Batch [400/938], Train Loss: [1.09932]\n",
      "Epoch [20], Batch [600/938], Train Loss: [1.11046]\n",
      "Epoch [20], Batch [800/938], Train Loss: [1.01228]\n",
      "Accuracy of train set: 0.6045166666666667\n",
      "Epoch [20], [Test set] batch [200/938], loss=[1.18662]\n",
      "Epoch [20], [Test set] batch [400/938], loss=[1.08870]\n",
      "Epoch [20], [Test set] batch [600/938], loss=[1.16763]\n",
      "Epoch [20], [Test set] batch [800/938], loss=[1.03282]\n",
      "Accuracy of Test set set: [0.605]\n",
      "Epoch [21], Batch [200/938], Train Loss: [1.08096]\n",
      "Epoch [21], Batch [400/938], Train Loss: [1.06330]\n",
      "Epoch [21], Batch [600/938], Train Loss: [0.85726]\n",
      "Epoch [21], Batch [800/938], Train Loss: [1.55210]\n",
      "Accuracy of train set: 0.6054333333333334\n",
      "Epoch [21], [Test set] batch [200/938], loss=[1.24334]\n",
      "Epoch [21], [Test set] batch [400/938], loss=[1.31001]\n",
      "Epoch [21], [Test set] batch [600/938], loss=[1.06458]\n",
      "Epoch [21], [Test set] batch [800/938], loss=[1.16734]\n",
      "Accuracy of Test set set: [0.6008]\n",
      "Epoch [22], Batch [200/938], Train Loss: [1.20811]\n",
      "Epoch [22], Batch [400/938], Train Loss: [0.81775]\n",
      "Epoch [22], Batch [600/938], Train Loss: [0.90706]\n",
      "Epoch [22], Batch [800/938], Train Loss: [1.05876]\n",
      "Accuracy of train set: 0.607\n",
      "Epoch [22], [Test set] batch [200/938], loss=[1.34544]\n",
      "Epoch [22], [Test set] batch [400/938], loss=[0.79139]\n",
      "Epoch [22], [Test set] batch [600/938], loss=[1.06680]\n",
      "Epoch [22], [Test set] batch [800/938], loss=[1.28513]\n",
      "Accuracy of Test set set: [0.6110166666666667]\n",
      "Epoch [23], Batch [200/938], Train Loss: [1.24368]\n",
      "Epoch [23], Batch [400/938], Train Loss: [0.89344]\n",
      "Epoch [23], Batch [600/938], Train Loss: [1.16844]\n",
      "Epoch [23], Batch [800/938], Train Loss: [1.37629]\n",
      "Accuracy of train set: 0.6091\n",
      "Epoch [23], [Test set] batch [200/938], loss=[1.20866]\n",
      "Epoch [23], [Test set] batch [400/938], loss=[1.03897]\n",
      "Epoch [23], [Test set] batch [600/938], loss=[1.24177]\n",
      "Epoch [23], [Test set] batch [800/938], loss=[0.89907]\n",
      "Accuracy of Test set set: [0.6118833333333333]\n",
      "Epoch [24], Batch [200/938], Train Loss: [0.95112]\n",
      "Epoch [24], Batch [400/938], Train Loss: [1.07711]\n",
      "Epoch [24], Batch [600/938], Train Loss: [0.96850]\n",
      "Epoch [24], Batch [800/938], Train Loss: [1.15092]\n",
      "Accuracy of train set: 0.6102\n",
      "Epoch [24], [Test set] batch [200/938], loss=[0.82560]\n",
      "Epoch [24], [Test set] batch [400/938], loss=[1.13498]\n",
      "Epoch [24], [Test set] batch [600/938], loss=[0.74174]\n",
      "Epoch [24], [Test set] batch [800/938], loss=[1.22630]\n",
      "Accuracy of Test set set: [0.6086]\n"
     ]
    },
    {
     "data": {
      "text/plain": "<Figure size 640x480 with 1 Axes>",
      "image/png": "[encoded data removed]"
     },
     "metadata": {},
     "output_type": "display_data"
    },
    {
     "data": {
      "text/plain": "<Figure size 640x480 with 1 Axes>",
      "image/png": "[encoded data removed]"
     },
     "metadata": {},
     "output_type": "display_data"
    }
   ],
   "source": [
    "train_losses , train_accuracies ,test_losses ,test_accuracies=train_model([train_loader, test_loader], num_epochs=25, learning_rate=0.005)"
   ]
  },
  {
   "cell_type": "code",
   "execution_count": 87,
   "id": "ceb5783f",
   "metadata": {
    "pycharm": {
     "name": "#%%\n"
    }
   },
   "outputs": [
    {
     "name": "stdout",
     "output_type": "stream",
     "text": [
      "Final test accuracy: 0.6086\n"
     ]
    }
   ],
   "source": [
    "print(f'Final test accuracy: {test_accuracies[-1]}')"
   ]
  },
  {
   "cell_type": "markdown",
   "id": "a5e128ed",
   "metadata": {
    "pycharm": {
     "name": "#%% md\n"
    }
   },
   "source": [
    "## Visualization of the labels and predictions\n",
    "\n",
    "In this section, you should visual one image from each class and show both the actual label and the predicted label for that image."
   ]
  },
  {
   "cell_type": "code",
   "execution_count": 100,
   "id": "6c0b79fd",
   "metadata": {
    "pycharm": {
     "name": "#%%\n"
    }
   },
   "outputs": [],
   "source": [
    "## FILL HERE\n",
    "class_images = {i: None for i in range(10)}\n",
    "with torch.no_grad():\n",
    "    for data in test_loader:\n",
    "        images, labels = data\n",
    "        outputs = model(images,parameters)\n",
    "        _, predicted = torch.max(outputs, 1)\n",
    "        if class_images[labels[0].item()] is None:\n",
    "            class_images[labels[0].item()] = (images[0], labels[0], predicted[0])\n"
   ]
  },
  {
   "cell_type": "code",
   "execution_count": 105,
   "outputs": [
    {
     "data": {
      "text/plain": "<Figure size 1500x1000 with 10 Axes>",
      "image/png": "[encoded data removed]"
     },
     "metadata": {},
     "output_type": "display_data"
    }
   ],
   "source": [
    "classes = test_set.classes\n",
    "fig, axs = plt.subplots(5, 2, figsize=(15, 10))\n",
    "for i in range(10):\n",
    "    row = i // 2\n",
    "    col = i % 2\n",
    "    image, actual_label, predicted_label = class_images[i]\n",
    "    axs[row, col].imshow(image.permute(1, 2, 0) * 0.5 + 0.5)\n",
    "    axs[row, col].set_title('Actual: {} // Predicted: {}'.format(classes[actual_label.item()], classes[predicted_label.item()]))\n",
    "    axs[row, col].axis('off')\n",
    "plt.show()"
   ],
   "metadata": {
    "collapsed": false,
    "pycharm": {
     "name": "#%%\n"
    }
   }
  }
 ],
 "metadata": {
  "kernelspec": {
   "display_name": "Python 3",
   "language": "python",
   "name": "python3"
  },
  "language_info": {
   "codemirror_mode": {
    "name": "ipython",
    "version": 3
   },
   "file_extension": ".py",
   "mimetype": "text/x-python",
   "name": "python",
   "nbconvert_exporter": "python",
   "pygments_lexer": "ipython3",
   "version": "3.8.3"
  }
 },
 "nbformat": 4,
 "nbformat_minor": 5
}