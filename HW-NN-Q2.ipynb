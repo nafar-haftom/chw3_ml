{
 "cells": [
  {
   "cell_type": "markdown",
   "id": "9779e5d5",
   "metadata": {
    "pycharm": {
     "name": "#%% md\n"
    }
   },
   "source": [
    "<div align=center>\n",
    "\n",
    "<font size=5>\n",
    "    In the Name of God\n",
    "<font/>\n",
    "<br/>\n",
    "<br/>\n",
    "<font>\n",
    "    Sharif University of Technology - Departmenet of Electrical Engineering\n",
    "</font>\n",
    "<br/>\n",
    "<font>\n",
    "    Introducing with Machine Learing - Dr. S. Amini\n",
    "</font>\n",
    "<br/>\n",
    "<br/>\n",
    "Spring 2023\n",
    "\n",
    "</div>\n",
    "\n",
    "<hr/>\n",
    "<div align=center>\n",
    "<font size=6>\n",
    "    Neural Networks Practical Assignment\n",
    "    \n",
    "    Question 2\n",
    "</font>\n",
    "<br/>\t\t\n",
    "<font size=4>\n",
    "<br/>\n",
    "</div>"
   ]
  },
  {
   "cell_type": "markdown",
   "id": "1d55ee53",
   "metadata": {
    "id": "a6c2fd6d",
    "pycharm": {
     "name": "#%% md\n"
    }
   },
   "source": [
    "# Personal Data"
   ]
  },
  {
   "cell_type": "code",
   "execution_count": 1,
   "id": "40e950d8",
   "metadata": {
    "id": "4e90a030",
    "pycharm": {
     "name": "#%%\n"
    }
   },
   "outputs": [],
   "source": [
    "# Set your student number\n",
    "student_number = 99106493\n",
    "Name = 'Mohammad'\n",
    "Last_Name = 'Ghafourian AghaHasanPour'"
   ]
  },
  {
   "cell_type": "markdown",
   "id": "2edb1e44",
   "metadata": {
    "id": "339da203",
    "pycharm": {
     "name": "#%% md\n"
    }
   },
   "source": [
    "# Rules\n",
    "- You are not allowed to add or remove cells. You **must use the provided space to write your code**. If you don't follow this rule, **your Practical Assignment won't be graded**.  \n",
    "\n",
    "- Collaboration and using the internet is allowed, but your code **must be written by yourself**. **Copying code** from each other or from available resources will result in a **zero score for the assignment**.\n",
    "\n",
    "- In this question, you are allowed to use `torch.optim`, `torch.nn` or any other submodule you need.\n",
    "- You **are not allowed** to use the models already implemented or the pretrained models in torch. "
   ]
  },
  {
   "cell_type": "code",
   "execution_count": 2,
   "id": "7a15a195",
   "metadata": {
    "id": "881f2e4c",
    "pycharm": {
     "name": "#%%\n"
    }
   },
   "outputs": [
    {
     "name": "stdout",
     "output_type": "stream",
     "text": [
      "Requirement already satisfied: numpy in c:\\users\\admin\\appdata\\local\\programs\\python\\python39\\lib\\site-packages (1.22.4)\n",
      "Requirement already satisfied: matplotlib in c:\\users\\admin\\appdata\\local\\programs\\python\\python39\\lib\\site-packages (3.5.2)\n",
      "Requirement already satisfied: cycler>=0.10 in c:\\users\\admin\\appdata\\local\\programs\\python\\python39\\lib\\site-packages (from matplotlib) (0.11.0)\n",
      "Requirement already satisfied: fonttools>=4.22.0 in c:\\users\\admin\\appdata\\local\\programs\\python\\python39\\lib\\site-packages (from matplotlib) (4.33.3)\n",
      "Requirement already satisfied: kiwisolver>=1.0.1 in c:\\users\\admin\\appdata\\local\\programs\\python\\python39\\lib\\site-packages (from matplotlib) (1.4.2)\n",
      "Requirement already satisfied: numpy>=1.17 in c:\\users\\admin\\appdata\\local\\programs\\python\\python39\\lib\\site-packages (from matplotlib) (1.22.4)\n",
      "Requirement already satisfied: packaging>=20.0 in c:\\users\\admin\\appdata\\local\\programs\\python\\python39\\lib\\site-packages (from matplotlib) (21.3)\n",
      "Requirement already satisfied: pillow>=6.2.0 in c:\\users\\admin\\appdata\\local\\programs\\python\\python39\\lib\\site-packages (from matplotlib) (9.5.0)\n",
      "Requirement already satisfied: pyparsing>=2.2.1 in c:\\users\\admin\\appdata\\local\\programs\\python\\python39\\lib\\site-packages (from matplotlib) (3.0.9)\n",
      "Requirement already satisfied: python-dateutil>=2.7 in c:\\users\\admin\\appdata\\local\\programs\\python\\python39\\lib\\site-packages (from matplotlib) (2.8.2)\n",
      "Requirement already satisfied: six>=1.5 in c:\\users\\admin\\appdata\\local\\programs\\python\\python39\\lib\\site-packages (from python-dateutil>=2.7->matplotlib) (1.16.0)\n",
      "Requirement already satisfied: torchvision in c:\\users\\admin\\appdata\\local\\programs\\python\\python39\\lib\\site-packages (0.15.2)\n",
      "Requirement already satisfied: numpy in c:\\users\\admin\\appdata\\local\\programs\\python\\python39\\lib\\site-packages (from torchvision) (1.22.4)\n",
      "Requirement already satisfied: requests in c:\\users\\admin\\appdata\\local\\programs\\python\\python39\\lib\\site-packages (from torchvision) (2.28.2)\n",
      "Requirement already satisfied: torch==2.0.1 in c:\\users\\admin\\appdata\\local\\programs\\python\\python39\\lib\\site-packages (from torchvision) (2.0.1)\n",
      "Requirement already satisfied: pillow!=8.3.*,>=5.3.0 in c:\\users\\admin\\appdata\\local\\programs\\python\\python39\\lib\\site-packages (from torchvision) (9.5.0)\n",
      "Requirement already satisfied: filelock in c:\\users\\admin\\appdata\\local\\programs\\python\\python39\\lib\\site-packages (from torch==2.0.1->torchvision) (3.12.0)\n",
      "Requirement already satisfied: typing-extensions in c:\\users\\admin\\appdata\\local\\programs\\python\\python39\\lib\\site-packages (from torch==2.0.1->torchvision) (4.5.0)\n",
      "Requirement already satisfied: sympy in c:\\users\\admin\\appdata\\local\\programs\\python\\python39\\lib\\site-packages (from torch==2.0.1->torchvision) (1.12)\n",
      "Requirement already satisfied: networkx in c:\\users\\admin\\appdata\\local\\programs\\python\\python39\\lib\\site-packages (from torch==2.0.1->torchvision) (3.1)\n",
      "Requirement already satisfied: jinja2 in c:\\users\\admin\\appdata\\local\\programs\\python\\python39\\lib\\site-packages (from torch==2.0.1->torchvision) (3.1.2)\n",
      "Requirement already satisfied: charset-normalizer<4,>=2 in c:\\users\\admin\\appdata\\local\\programs\\python\\python39\\lib\\site-packages (from requests->torchvision) (2.0.4)\n",
      "Requirement already satisfied: idna<4,>=2.5 in c:\\users\\admin\\appdata\\local\\programs\\python\\python39\\lib\\site-packages (from requests->torchvision) (3.2)\n",
      "Requirement already satisfied: urllib3<1.27,>=1.21.1 in c:\\users\\admin\\appdata\\local\\programs\\python\\python39\\lib\\site-packages (from requests->torchvision) (1.26.6)\n",
      "Requirement already satisfied: certifi>=2017.4.17 in c:\\users\\admin\\appdata\\local\\programs\\python\\python39\\lib\\site-packages (from requests->torchvision) (2021.5.30)\n",
      "Requirement already satisfied: MarkupSafe>=2.0 in c:\\users\\admin\\appdata\\local\\programs\\python\\python39\\lib\\site-packages (from jinja2->torch==2.0.1->torchvision) (2.1.1)\n",
      "Requirement already satisfied: mpmath>=0.19 in c:\\users\\admin\\appdata\\local\\programs\\python\\python39\\lib\\site-packages (from sympy->torch==2.0.1->torchvision) (1.3.0)\n",
      "Requirement already satisfied: torch in c:\\users\\admin\\appdata\\local\\programs\\python\\python39\\lib\\site-packages (2.0.1)\n",
      "Requirement already satisfied: filelock in c:\\users\\admin\\appdata\\local\\programs\\python\\python39\\lib\\site-packages (from torch) (3.12.0)\n",
      "Requirement already satisfied: typing-extensions in c:\\users\\admin\\appdata\\local\\programs\\python\\python39\\lib\\site-packages (from torch) (4.5.0)\n",
      "Requirement already satisfied: sympy in c:\\users\\admin\\appdata\\local\\programs\\python\\python39\\lib\\site-packages (from torch) (1.12)\n",
      "Requirement already satisfied: networkx in c:\\users\\admin\\appdata\\local\\programs\\python\\python39\\lib\\site-packages (from torch) (3.1)\n",
      "Requirement already satisfied: jinja2 in c:\\users\\admin\\appdata\\local\\programs\\python\\python39\\lib\\site-packages (from torch) (3.1.2)\n",
      "Requirement already satisfied: MarkupSafe>=2.0 in c:\\users\\admin\\appdata\\local\\programs\\python\\python39\\lib\\site-packages (from jinja2->torch) (2.1.1)\n",
      "Requirement already satisfied: mpmath>=0.19 in c:\\users\\admin\\appdata\\local\\programs\\python\\python39\\lib\\site-packages (from sympy->torch) (1.3.0)\n"
     ]
    }
   ],
   "source": [
    "!pip install numpy\n",
    "!pip install matplotlib\n",
    "!pip install torchvision\n",
    "!pip install torch"
   ]
  },
  {
   "cell_type": "markdown",
   "id": "85c3b02e",
   "metadata": {
    "pycharm": {
     "name": "#%% md\n"
    }
   },
   "source": [
    "## Importing Libraries"
   ]
  },
  {
   "cell_type": "code",
   "execution_count": 3,
   "id": "b6246005",
   "metadata": {
    "pycharm": {
     "name": "#%%\n"
    }
   },
   "outputs": [],
   "source": [
    "import torch\n",
    "from torchvision.datasets import FashionMNIST\n",
    "import torch.optim as optim\n",
    "from torchvision import transforms\n",
    "from torch.utils.data import DataLoader\n",
    "import torchvision\n",
    "\n",
    "import numpy as np\n",
    "from matplotlib import pyplot as plt\n",
    "from typing import Dict"
   ]
  },
  {
   "cell_type": "markdown",
   "id": "2c89754b",
   "metadata": {
    "pycharm": {
     "name": "#%% md\n"
    }
   },
   "source": [
    "## Datasets and Dataloaders\n",
    "\n",
    "You should load the train and test set of the `CIFAR10` dataset and apply the desired transforms on it. Then, you should create the loaders for these `test` and `train` sets.\n",
    "- **Hint:** You can use `torchvision.datasets` to easily load the CIFAR10 dataset."
   ]
  },
  {
   "cell_type": "code",
   "execution_count": 4,
   "id": "40e10458",
   "metadata": {
    "pycharm": {
     "name": "#%%\n"
    }
   },
   "outputs": [
    {
     "name": "stdout",
     "output_type": "stream",
     "text": [
      "Files already downloaded and verified\n",
      "Files already downloaded and verified\n"
     ]
    }
   ],
   "source": [
    "## FILL HERE\n",
    "transform = transforms.Compose(\n",
    "    [transforms.ToTensor(),\n",
    "     transforms.Normalize((0.5, 0.5, 0.5), (0.5, 0.5, 0.5))])\n",
    "\n",
    "batch_size = 10\n",
    "trainset = torchvision.datasets.CIFAR10(root='./data', train=True,\n",
    "                                        download=True, transform=transform)\n",
    "trainloader = torch.utils.data.DataLoader(trainset, batch_size=batch_size,\n",
    "                                          shuffle=True, num_workers=2)\n",
    "\n",
    "testset = torchvision.datasets.CIFAR10(root='./data', train=False,\n",
    "                                       download=True, transform=transform)\n",
    "testloader = torch.utils.data.DataLoader(testset, batch_size=batch_size,\n",
    "                                         shuffle=False, num_workers=2)\n",
    "classes_name = ('plane', 'car', 'bird', 'cat','deer', 'dog', 'frog', 'horse', 'ship', 'truck')"
   ]
  },
  {
   "cell_type": "markdown",
   "id": "ee9a3be8",
   "metadata": {
    "pycharm": {
     "name": "#%% md\n"
    }
   },
   "source": [
    "## Visualization\n",
    "\n",
    "Visualize 1 random image from each class\n"
   ]
  },
  {
   "cell_type": "code",
   "execution_count": 5,
   "id": "a1b039d1",
   "metadata": {
    "pycharm": {
     "name": "#%%\n"
    }
   },
   "outputs": [
    {
     "name": "stdout",
     "output_type": "stream",
     "text": [
      "classes is  [0 1 2 3 4 5 6 7 8 9]\n"
     ]
    },
    {
     "name": "stderr",
     "output_type": "stream",
     "text": [
      "Clipping input data to the valid range for imshow with RGB data ([0..1] for floats or [0..255] for integers).\n",
      "Clipping input data to the valid range for imshow with RGB data ([0..1] for floats or [0..255] for integers).\n",
      "Clipping input data to the valid range for imshow with RGB data ([0..1] for floats or [0..255] for integers).\n",
      "Clipping input data to the valid range for imshow with RGB data ([0..1] for floats or [0..255] for integers).\n",
      "Clipping input data to the valid range for imshow with RGB data ([0..1] for floats or [0..255] for integers).\n",
      "Clipping input data to the valid range for imshow with RGB data ([0..1] for floats or [0..255] for integers).\n",
      "Clipping input data to the valid range for imshow with RGB data ([0..1] for floats or [0..255] for integers).\n",
      "Clipping input data to the valid range for imshow with RGB data ([0..1] for floats or [0..255] for integers).\n",
      "Clipping input data to the valid range for imshow with RGB data ([0..1] for floats or [0..255] for integers).\n",
      "Clipping input data to the valid range for imshow with RGB data ([0..1] for floats or [0..255] for integers).\n"
     ]
    },
    {
     "data": {
      "text/plain": "<Figure size 1000x1200 with 10 Axes>",
      "image/png": "[encoded data removed]"
     },
     "metadata": {},
     "output_type": "display_data"
    }
   ],
   "source": [
    "## FILL HERE\n",
    "class_images = {}\n",
    "\n",
    "# Select one random image from each class\n",
    "classes = np.unique(testset.targets)\n",
    "print('classes is ',classes)\n",
    "for c in classes:\n",
    "    idx = np.where(np.array(testset.targets) == c)[0][0]\n",
    "    class_images[c] = testset[idx][0]\n",
    "\n",
    "# Display the images\n",
    "fig, axs = plt.subplots(5, 2, figsize=(10, 12))\n",
    "fig.suptitle('One random image from each class')\n",
    "for c in class_images:\n",
    "    row = c // 2\n",
    "    col = c % 2\n",
    "    axs[row, col].imshow(np.transpose(class_images[c].numpy() ,(1,2,0) ))\n",
    "    axs[row, col].axis(\"off\")\n",
    "    axs[row, col].set_title(classes_name[c],fontsize=10)\n",
    "plt.show()\n",
    "\n"
   ]
  },
  {
   "cell_type": "markdown",
   "id": "1221642e",
   "metadata": {
    "pycharm": {
     "name": "#%% md\n"
    }
   },
   "source": [
    "## Defining a Convolutional Neural Network\n",
    "\n",
    "In this section, you should define a class called `Net` which represents the model for your convolutional neural network.\n",
    "- **Hint:** You can use `torch.nn` to add the required layers to your model."
   ]
  },
  {
   "cell_type": "code",
   "execution_count": 6,
   "id": "0ba6a266",
   "metadata": {
    "pycharm": {
     "name": "#%%\n"
    }
   },
   "outputs": [],
   "source": [
    "import torch.nn as nn\n",
    "import torch.nn.functional as F\n",
    "\n",
    "\n",
    "class Net(nn.Module):\n",
    "    def __init__(self):\n",
    "        super().__init__()\n",
    "        ## FILL HERE\n",
    "        '''self.conv1 = nn.Conv2d(3, 32, 3)\n",
    "        self.pool = nn.AvgPool2d(2, 2)\n",
    "        self.conv2 = nn.Conv2d(32, 16, 4)\n",
    "        self.fc1 = nn.Linear(16 * 6 * 6, 120)\n",
    "        self.fc2 = nn.Linear(120, 60)\n",
    "        self.fc3 = nn.Linear(60, 10)'''\n",
    "        self.network = nn.Sequential(\n",
    "            nn.Conv2d(3, 32, kernel_size=3, padding=1),\n",
    "            nn.ReLU(),\n",
    "            nn.Conv2d(32, 64, kernel_size=3, stride=1, padding=1),\n",
    "            nn.ReLU(),\n",
    "            nn.MaxPool2d(2, 2), # output: 64 x 16 x 16\n",
    "            nn.BatchNorm2d(64),\n",
    "\n",
    "            nn.Conv2d(64, 128, kernel_size=3, stride=1, padding=1),\n",
    "            nn.ReLU(),\n",
    "            nn.Conv2d(128, 128, kernel_size=3, stride=1, padding=1),\n",
    "            nn.ReLU(),\n",
    "            nn.MaxPool2d(2, 2), # output: 128 x 8 x 8\n",
    "            nn.BatchNorm2d(128),\n",
    "\n",
    "            nn.Conv2d(128, 256, kernel_size=3, stride=1, padding=1),\n",
    "            nn.ReLU(),\n",
    "            nn.Conv2d(256, 256, kernel_size=3, stride=1, padding=1),\n",
    "            nn.ReLU(),\n",
    "            nn.MaxPool2d(2, 2), # output: 256 x 4 x 4\n",
    "            nn.BatchNorm2d(256),\n",
    "\n",
    "            nn.Flatten(),\n",
    "            nn.Linear(256*4*4, 1024),\n",
    "            nn.ReLU(),\n",
    "            nn.Linear(1024, 512),\n",
    "            nn.ReLU(),\n",
    "            nn.Linear(512, 10))\n",
    "\n",
    "    def forward(self, x):\n",
    "        ## FILL HERE\n",
    "        '''x = F.relu(self.conv1(x)) # 32 , 30 , 30\n",
    "        x = self.pool(x) # 32 , 15 , 15\n",
    "        x = F.relu(self.conv2(x)) # 16 , 12 , 12\n",
    "        x = self.pool(x) # 16 , 6 , 6\n",
    "        x = torch.flatten(x, 1) # flatten all dimensions except batch\n",
    "        x = F.relu(self.fc1(x))\n",
    "        x = F.relu(self.fc2(x))\n",
    "        x = self.fc3(x)'''\n",
    "\n",
    "        return self.network(x)\n",
    "        #return x\n",
    "\n",
    "net = Net()"
   ]
  },
  {
   "cell_type": "markdown",
   "id": "e3c27c9f",
   "metadata": {
    "pycharm": {
     "name": "#%% md\n"
    }
   },
   "source": [
    "## Define a Loss function and optimizer"
   ]
  },
  {
   "cell_type": "markdown",
   "id": "a8f1eadd",
   "metadata": {
    "pycharm": {
     "name": "#%% md\n"
    }
   },
   "source": [
    "In this section, you simply define your loss function and optimizer.\n",
    "- **Hint:** You can use `torch.optim` and implemented loss functions in torch."
   ]
  },
  {
   "cell_type": "code",
   "execution_count": 7,
   "id": "79068600",
   "metadata": {
    "pycharm": {
     "name": "#%%\n"
    }
   },
   "outputs": [],
   "source": [
    "## FILL HERE\n",
    "criterion = nn.CrossEntropyLoss()\n",
    "optimizer = optim.SGD(net.parameters(), lr=0.002, momentum=0.9)"
   ]
  },
  {
   "cell_type": "markdown",
   "id": "b526ee28",
   "metadata": {
    "pycharm": {
     "name": "#%% md\n"
    }
   },
   "source": [
    "## Training the model\n",
    "\n",
    "You should train your model for multiple epochs. You are free to choose the number of epochs. However, you should reach an acceptable accuracy at the end."
   ]
  },
  {
   "cell_type": "code",
   "execution_count": 8,
   "id": "fbf5c8d2",
   "metadata": {
    "pycharm": {
     "name": "#%%\n"
    }
   },
   "outputs": [
    {
     "name": "stdout",
     "output_type": "stream",
     "text": [
      "[1,   200] loss: 1.95355\n",
      "[1,   400] loss: 1.66786\n",
      "[1,   600] loss: 1.53397\n",
      "[1,   800] loss: 1.47412\n",
      "[1,  1000] loss: 1.36876\n",
      "[1,  1200] loss: 1.26202\n",
      "[1,  1400] loss: 1.17422\n",
      "[1,  1600] loss: 1.15509\n",
      "[1,  1800] loss: 1.13157\n",
      "[1,  2000] loss: 1.06267\n",
      "[1,  2200] loss: 1.02814\n",
      "[1,  2400] loss: 0.99099\n",
      "[1,  2600] loss: 1.01162\n",
      "[1,  2800] loss: 0.97680\n",
      "[1,  3000] loss: 0.93866\n",
      "[1,  3200] loss: 0.86926\n",
      "[1,  3400] loss: 0.91525\n",
      "[1,  3600] loss: 0.84621\n",
      "[1,  3800] loss: 0.87575\n",
      "[1,  4000] loss: 0.85910\n",
      "[1,  4200] loss: 0.79191\n",
      "[1,  4400] loss: 0.85399\n",
      "[1,  4600] loss: 0.81596\n",
      "[1,  4800] loss: 0.84146\n",
      "[1,  5000] loss: 0.78795\n",
      "[2,   200] loss: 0.68462\n",
      "[2,   400] loss: 0.66742\n",
      "[2,   600] loss: 0.70519\n",
      "[2,   800] loss: 0.66733\n",
      "[2,  1000] loss: 0.63859\n",
      "[2,  1200] loss: 0.67923\n",
      "[2,  1400] loss: 0.65425\n",
      "[2,  1600] loss: 0.67673\n",
      "[2,  1800] loss: 0.65612\n",
      "[2,  2000] loss: 0.70161\n",
      "[2,  2200] loss: 0.64129\n",
      "[2,  2400] loss: 0.65641\n",
      "[2,  2600] loss: 0.64239\n",
      "[2,  2800] loss: 0.67272\n",
      "[2,  3000] loss: 0.61520\n",
      "[2,  3200] loss: 0.61921\n",
      "[2,  3400] loss: 0.64320\n",
      "[2,  3600] loss: 0.60636\n",
      "[2,  3800] loss: 0.58853\n",
      "[2,  4000] loss: 0.60980\n",
      "[2,  4200] loss: 0.63182\n",
      "[2,  4400] loss: 0.61008\n",
      "[2,  4600] loss: 0.58692\n",
      "[2,  4800] loss: 0.60784\n",
      "[2,  5000] loss: 0.58976\n",
      "[3,   200] loss: 0.48510\n",
      "[3,   400] loss: 0.44356\n",
      "[3,   600] loss: 0.44269\n",
      "[3,   800] loss: 0.47843\n",
      "[3,  1000] loss: 0.46593\n",
      "[3,  1200] loss: 0.41821\n",
      "[3,  1400] loss: 0.45436\n",
      "[3,  1600] loss: 0.44132\n",
      "[3,  1800] loss: 0.53531\n",
      "[3,  2000] loss: 0.45285\n",
      "[3,  2200] loss: 0.48403\n",
      "[3,  2400] loss: 0.45046\n",
      "[3,  2600] loss: 0.43333\n",
      "[3,  2800] loss: 0.46569\n",
      "[3,  3000] loss: 0.48637\n",
      "[3,  3200] loss: 0.43564\n",
      "[3,  3400] loss: 0.49040\n",
      "[3,  3600] loss: 0.45044\n",
      "[3,  3800] loss: 0.45657\n",
      "[3,  4000] loss: 0.46851\n",
      "[3,  4200] loss: 0.44166\n",
      "[3,  4400] loss: 0.42504\n",
      "[3,  4600] loss: 0.47152\n",
      "[3,  4800] loss: 0.45812\n",
      "[3,  5000] loss: 0.43880\n",
      "[4,   200] loss: 0.27138\n",
      "[4,   400] loss: 0.28881\n",
      "[4,   600] loss: 0.28995\n",
      "[4,   800] loss: 0.28929\n",
      "[4,  1000] loss: 0.28929\n",
      "[4,  1200] loss: 0.29613\n",
      "[4,  1400] loss: 0.32127\n",
      "[4,  1600] loss: 0.32216\n",
      "[4,  1800] loss: 0.31567\n",
      "[4,  2000] loss: 0.33997\n",
      "[4,  2200] loss: 0.34989\n",
      "[4,  2400] loss: 0.34568\n",
      "[4,  2600] loss: 0.35665\n",
      "[4,  2800] loss: 0.34755\n",
      "[4,  3000] loss: 0.32740\n",
      "[4,  3200] loss: 0.33410\n",
      "[4,  3400] loss: 0.32810\n",
      "[4,  3600] loss: 0.36992\n",
      "[4,  3800] loss: 0.32099\n",
      "[4,  4000] loss: 0.34121\n",
      "[4,  4200] loss: 0.39250\n",
      "[4,  4400] loss: 0.35408\n",
      "[4,  4600] loss: 0.35015\n",
      "[4,  4800] loss: 0.31009\n",
      "[4,  5000] loss: 0.33348\n",
      "[5,   200] loss: 0.19244\n",
      "[5,   400] loss: 0.16699\n",
      "[5,   600] loss: 0.19364\n",
      "[5,   800] loss: 0.17033\n",
      "[5,  1000] loss: 0.16323\n",
      "[5,  1200] loss: 0.20342\n",
      "[5,  1400] loss: 0.20889\n",
      "[5,  1600] loss: 0.23974\n",
      "[5,  1800] loss: 0.21733\n",
      "[5,  2000] loss: 0.22246\n",
      "[5,  2200] loss: 0.20885\n",
      "[5,  2400] loss: 0.22296\n",
      "[5,  2600] loss: 0.20252\n",
      "[5,  2800] loss: 0.22299\n",
      "[5,  3000] loss: 0.23811\n",
      "[5,  3200] loss: 0.23945\n",
      "[5,  3400] loss: 0.24153\n",
      "[5,  3600] loss: 0.24699\n",
      "[5,  3800] loss: 0.21211\n",
      "[5,  4000] loss: 0.24314\n",
      "[5,  4200] loss: 0.22592\n",
      "[5,  4400] loss: 0.22206\n",
      "[5,  4600] loss: 0.26549\n",
      "[5,  4800] loss: 0.27566\n",
      "[5,  5000] loss: 0.26698\n",
      "[6,   200] loss: 0.12597\n",
      "[6,   400] loss: 0.12010\n",
      "[6,   600] loss: 0.11889\n",
      "[6,   800] loss: 0.12635\n",
      "[6,  1000] loss: 0.10964\n",
      "[6,  1200] loss: 0.14980\n",
      "[6,  1400] loss: 0.14029\n",
      "[6,  1600] loss: 0.12825\n",
      "[6,  1800] loss: 0.14632\n",
      "[6,  2000] loss: 0.14598\n",
      "[6,  2200] loss: 0.14227\n",
      "[6,  2400] loss: 0.14566\n",
      "[6,  2600] loss: 0.13580\n",
      "[6,  2800] loss: 0.13640\n",
      "[6,  3000] loss: 0.13430\n",
      "[6,  3200] loss: 0.15218\n",
      "[6,  3400] loss: 0.17030\n",
      "[6,  3600] loss: 0.12854\n",
      "[6,  3800] loss: 0.17278\n",
      "[6,  4000] loss: 0.15271\n",
      "[6,  4200] loss: 0.18644\n",
      "[6,  4400] loss: 0.16335\n",
      "[6,  4600] loss: 0.15807\n",
      "[6,  4800] loss: 0.16129\n",
      "[6,  5000] loss: 0.18032\n",
      "[7,   200] loss: 0.08248\n",
      "[7,   400] loss: 0.06544\n",
      "[7,   600] loss: 0.07037\n",
      "[7,   800] loss: 0.08548\n",
      "[7,  1000] loss: 0.09411\n",
      "[7,  1200] loss: 0.07478\n",
      "[7,  1400] loss: 0.09463\n",
      "[7,  1600] loss: 0.08440\n",
      "[7,  1800] loss: 0.10121\n",
      "[7,  2000] loss: 0.08288\n",
      "[7,  2200] loss: 0.10974\n",
      "[7,  2400] loss: 0.09691\n",
      "[7,  2600] loss: 0.11095\n",
      "[7,  2800] loss: 0.12210\n",
      "[7,  3000] loss: 0.09621\n",
      "[7,  3200] loss: 0.08777\n",
      "[7,  3400] loss: 0.11896\n",
      "[7,  3600] loss: 0.10612\n",
      "[7,  3800] loss: 0.09852\n",
      "[7,  4000] loss: 0.11370\n",
      "[7,  4200] loss: 0.11536\n",
      "[7,  4400] loss: 0.13286\n",
      "[7,  4600] loss: 0.11977\n",
      "[7,  4800] loss: 0.12485\n",
      "[7,  5000] loss: 0.13355\n",
      "[8,   200] loss: 0.06175\n",
      "[8,   400] loss: 0.05896\n",
      "[8,   600] loss: 0.05982\n",
      "[8,   800] loss: 0.06721\n",
      "[8,  1000] loss: 0.06689\n",
      "[8,  1200] loss: 0.06480\n",
      "[8,  1400] loss: 0.05325\n",
      "[8,  1600] loss: 0.06492\n",
      "[8,  1800] loss: 0.06506\n",
      "[8,  2000] loss: 0.06310\n",
      "[8,  2200] loss: 0.08059\n",
      "[8,  2400] loss: 0.08164\n",
      "[8,  2600] loss: 0.07712\n",
      "[8,  2800] loss: 0.08546\n",
      "[8,  3000] loss: 0.08890\n",
      "[8,  3200] loss: 0.08185\n",
      "[8,  3400] loss: 0.07720\n",
      "[8,  3600] loss: 0.11112\n",
      "[8,  3800] loss: 0.08854\n",
      "[8,  4000] loss: 0.08535\n",
      "[8,  4200] loss: 0.08211\n",
      "[8,  4400] loss: 0.10527\n",
      "[8,  4600] loss: 0.09178\n",
      "[8,  4800] loss: 0.08267\n",
      "[8,  5000] loss: 0.08629\n",
      "[9,   200] loss: 0.03318\n",
      "[9,   400] loss: 0.03036\n",
      "[9,   600] loss: 0.02518\n",
      "[9,   800] loss: 0.02636\n",
      "[9,  1000] loss: 0.02156\n",
      "[9,  1200] loss: 0.02755\n",
      "[9,  1400] loss: 0.03909\n",
      "[9,  1600] loss: 0.04027\n",
      "[9,  1800] loss: 0.05699\n",
      "[9,  2000] loss: 0.06577\n",
      "[9,  2200] loss: 0.05236\n",
      "[9,  2400] loss: 0.05786\n",
      "[9,  2600] loss: 0.04820\n",
      "[9,  2800] loss: 0.05250\n",
      "[9,  3000] loss: 0.05452\n",
      "[9,  3200] loss: 0.06889\n",
      "[9,  3400] loss: 0.05889\n",
      "[9,  3600] loss: 0.06669\n",
      "[9,  3800] loss: 0.07063\n",
      "[9,  4000] loss: 0.06709\n",
      "[9,  4200] loss: 0.07250\n",
      "[9,  4400] loss: 0.05597\n",
      "[9,  4600] loss: 0.06540\n",
      "[9,  4800] loss: 0.04616\n",
      "[9,  5000] loss: 0.06131\n",
      "[10,   200] loss: 0.03954\n",
      "[10,   400] loss: 0.02979\n",
      "[10,   600] loss: 0.03041\n",
      "[10,   800] loss: 0.04321\n",
      "[10,  1000] loss: 0.03940\n",
      "[10,  1200] loss: 0.03960\n",
      "[10,  1400] loss: 0.03764\n",
      "[10,  1600] loss: 0.04391\n",
      "[10,  1800] loss: 0.06242\n",
      "[10,  2000] loss: 0.04772\n",
      "[10,  2200] loss: 0.04127\n",
      "[10,  2400] loss: 0.05704\n",
      "[10,  2600] loss: 0.05685\n",
      "[10,  2800] loss: 0.05661\n",
      "[10,  3000] loss: 0.06763\n",
      "[10,  3200] loss: 0.04381\n",
      "[10,  3400] loss: 0.05464\n",
      "[10,  3600] loss: 0.05952\n",
      "[10,  3800] loss: 0.04568\n",
      "[10,  4000] loss: 0.05853\n",
      "[10,  4200] loss: 0.04829\n",
      "[10,  4400] loss: 0.05972\n",
      "[10,  4600] loss: 0.07579\n",
      "[10,  4800] loss: 0.06067\n",
      "[10,  5000] loss: 0.05895\n",
      "Finished Training\n"
     ]
    }
   ],
   "source": [
    "epoch_nums = 10## Number of epochs\n",
    "for epoch in range(epoch_nums):  # loop over the dataset multiple times\n",
    "\n",
    "    running_loss = 0.0\n",
    "    for i, data in enumerate(trainloader, 0):\n",
    "        ## FILL HERE\n",
    "        ## You should train the model and also print the running loss for each batch\n",
    "        inputs, labels = data\n",
    "\n",
    "        optimizer.zero_grad() #zero the gradient\n",
    "        outputs = net(inputs)\n",
    "        loss = criterion(outputs, labels)\n",
    "        loss.backward()\n",
    "\n",
    "        optimizer.step()\n",
    "\n",
    "        running_loss += loss.item()\n",
    "\n",
    "        if (i+1) % 200 == 0:\n",
    "            print(f'[{epoch + 1}, {i + 1:5d}] loss: {running_loss / 200:.5f}')\n",
    "            running_loss = 0.0\n",
    "\n",
    "print('Finished Training')"
   ]
  },
  {
   "cell_type": "markdown",
   "id": "14558277",
   "metadata": {
    "pycharm": {
     "name": "#%% md\n"
    }
   },
   "source": [
    "## Test the network on the test data\n",
    "\n",
    "In the following section, you should test your network and calculate the accuracy of your model on the test dataset."
   ]
  },
  {
   "cell_type": "code",
   "execution_count": 11,
   "id": "fb0f4803",
   "metadata": {
    "pycharm": {
     "name": "#%%\n"
    }
   },
   "outputs": [
    {
     "name": "stdout",
     "output_type": "stream",
     "text": [
      "Accuracy of the network on the 10000 test images: 82 %\n",
      "Accuracy of the network on the 10000 test images: 82 %\n"
     ]
    }
   ],
   "source": [
    "correct = 0\n",
    "total = 0\n",
    "# since we're not training, we don't need to calculate the gradients for our outputs\n",
    "with torch.no_grad():\n",
    "    for data in testloader:\n",
    "        ## FILL HERE\n",
    "        images, labels = data\n",
    "        outputs = net(images)\n",
    "        _, predicted = torch.max(outputs.data, 1)\n",
    "        total += labels.size(0)\n",
    "        correct += (predicted == labels).sum().item()\n",
    "print(f'Accuracy of the network on the 10000 test images: {100 * correct // total} %')"
   ]
  },
  {
   "cell_type": "markdown",
   "id": "9a90c190",
   "metadata": {
    "pycharm": {
     "name": "#%% md\n"
    }
   },
   "source": [
    "Here, we also calculate the model performance for each class as well."
   ]
  },
  {
   "cell_type": "code",
   "execution_count": 12,
   "id": "8afd6a24",
   "metadata": {
    "pycharm": {
     "name": "#%%\n"
    }
   },
   "outputs": [
    {
     "name": "stdout",
     "output_type": "stream",
     "text": [
      "Accuracy for class: plane is 85.2 %\n",
      "Accuracy for class: car is 91.4 %\n",
      "Accuracy for class: bird is 74.3 %\n",
      "Accuracy for class: cat is 63.1 %\n",
      "Accuracy for class: deer is 80.6 %\n",
      "Accuracy for class: dog is 78.5 %\n",
      "Accuracy for class: frog is 90.3 %\n",
      "Accuracy for class: horse is 87.1 %\n",
      "Accuracy for class: ship is 90.3 %\n",
      "Accuracy for class: truck is 89.1 %\n"
     ]
    }
   ],
   "source": [
    "# prepare to count predictions for each class\n",
    "correct_pred = {classname: 0 for classname in classes}\n",
    "total_pred = {classname: 0 for classname in classes}\n",
    "\n",
    "# again no gradients needed\n",
    "with torch.no_grad():\n",
    "    for data in testloader:\n",
    "        ## FILL HERE\n",
    "        images, labels = data\n",
    "        outputs = net(images)\n",
    "        _, predictions = torch.max(outputs, 1)\n",
    "        for label, prediction in zip(labels, predictions):\n",
    "            if label == prediction:\n",
    "                correct_pred[classes[label]] += 1\n",
    "            total_pred[classes[label]] += 1\n",
    "\n",
    "# print accuracy for each class\n",
    "for classname, correct_count in correct_pred.items():\n",
    "    accuracy = 100 * float(correct_count) / total_pred[classname]\n",
    "    print(f'Accuracy for class: {classes_name[classname]} is {accuracy} %')"
   ]
  }
 ],
 "metadata": {
  "kernelspec": {
   "display_name": "Python 3",
   "language": "python",
   "name": "python3"
  },
  "language_info": {
   "codemirror_mode": {
    "name": "ipython",
    "version": 3
   },
   "file_extension": ".py",
   "mimetype": "text/x-python",
   "name": "python",
   "nbconvert_exporter": "python",
   "pygments_lexer": "ipython3",
   "version": "3.8.3"
  }
 },
 "nbformat": 4,
 "nbformat_minor": 5
}